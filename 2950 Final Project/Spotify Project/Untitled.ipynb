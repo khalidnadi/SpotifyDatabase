{
 "cells": [
  {
   "cell_type": "code",
   "execution_count": null,
   "metadata": {},
   "outputs": [],
   "source": [
    "# a = []\n",
    "# for x in range(100):\n",
    "#     for y in range(100):\n",
    "#         if artist_count3.key(x) == songs2018.artists[x]:\n",
    "#             z = 3\n",
    "#     b = [songs2018.name[x], songs2018.artists[x], z]\n",
    "#     a.append(b)\n",
    "# print(a)"
   ]
  }
 ],
 "metadata": {
  "kernelspec": {
   "display_name": "Python 3",
   "language": "python",
   "name": "python3"
  },
  "language_info": {
   "codemirror_mode": {
    "name": "ipython",
    "version": 3
   },
   "file_extension": ".py",
   "mimetype": "text/x-python",
   "name": "python",
   "nbconvert_exporter": "python",
   "pygments_lexer": "ipython3",
   "version": "3.6.5"
  }
 },
 "nbformat": 4,
 "nbformat_minor": 2
}
