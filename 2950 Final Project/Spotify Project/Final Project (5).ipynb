{
 "cells": [
  {
   "cell_type": "code",
   "execution_count": 1,
   "metadata": {},
   "outputs": [],
   "source": [
    "import networkx\n",
    "import numpy\n",
    "from matplotlib import pyplot\n",
    "import pandas\n",
    "import collections"
   ]
  },
  {
   "cell_type": "code",
   "execution_count": 2,
   "metadata": {},
   "outputs": [],
   "source": [
    "# easy_install spotify #used to extract data from Spotify API"
   ]
  },
  {
   "cell_type": "markdown",
   "metadata": {},
   "source": [
    "Descriptive statistics. Use summary functions like mean and standard\n",
    "deviation along with visual displays like scatter plots and histograms to\n",
    "describe data."
   ]
  },
  {
   "cell_type": "code",
   "execution_count": 3,
   "metadata": {
    "scrolled": false
   },
   "outputs": [
    {
     "data": {
      "text/html": [
       "<div>\n",
       "<style scoped>\n",
       "    .dataframe tbody tr th:only-of-type {\n",
       "        vertical-align: middle;\n",
       "    }\n",
       "\n",
       "    .dataframe tbody tr th {\n",
       "        vertical-align: top;\n",
       "    }\n",
       "\n",
       "    .dataframe thead th {\n",
       "        text-align: right;\n",
       "    }\n",
       "</style>\n",
       "<table border=\"1\" class=\"dataframe\">\n",
       "  <thead>\n",
       "    <tr style=\"text-align: right;\">\n",
       "      <th></th>\n",
       "      <th>danceability</th>\n",
       "      <th>energy</th>\n",
       "      <th>key</th>\n",
       "      <th>loudness</th>\n",
       "      <th>mode</th>\n",
       "      <th>speechiness</th>\n",
       "      <th>acousticness</th>\n",
       "      <th>instrumentalness</th>\n",
       "      <th>liveness</th>\n",
       "      <th>valence</th>\n",
       "      <th>tempo</th>\n",
       "      <th>duration_ms</th>\n",
       "      <th>time_signature</th>\n",
       "    </tr>\n",
       "  </thead>\n",
       "  <tbody>\n",
       "    <tr>\n",
       "      <th>count</th>\n",
       "      <td>100.00000</td>\n",
       "      <td>100.000000</td>\n",
       "      <td>100.000000</td>\n",
       "      <td>100.000000</td>\n",
       "      <td>100.000000</td>\n",
       "      <td>100.000000</td>\n",
       "      <td>100.000000</td>\n",
       "      <td>100.000000</td>\n",
       "      <td>100.000000</td>\n",
       "      <td>100.000000</td>\n",
       "      <td>100.000000</td>\n",
       "      <td>100.000000</td>\n",
       "      <td>100.00</td>\n",
       "    </tr>\n",
       "    <tr>\n",
       "      <th>mean</th>\n",
       "      <td>0.71646</td>\n",
       "      <td>0.659060</td>\n",
       "      <td>5.330000</td>\n",
       "      <td>-5.677640</td>\n",
       "      <td>0.590000</td>\n",
       "      <td>0.115569</td>\n",
       "      <td>0.195701</td>\n",
       "      <td>0.001584</td>\n",
       "      <td>0.158302</td>\n",
       "      <td>0.484443</td>\n",
       "      <td>119.904180</td>\n",
       "      <td>205206.780000</td>\n",
       "      <td>3.98</td>\n",
       "    </tr>\n",
       "    <tr>\n",
       "      <th>std</th>\n",
       "      <td>0.13107</td>\n",
       "      <td>0.145067</td>\n",
       "      <td>3.676447</td>\n",
       "      <td>1.777577</td>\n",
       "      <td>0.494311</td>\n",
       "      <td>0.104527</td>\n",
       "      <td>0.220946</td>\n",
       "      <td>0.013449</td>\n",
       "      <td>0.111662</td>\n",
       "      <td>0.206145</td>\n",
       "      <td>28.795984</td>\n",
       "      <td>40007.893404</td>\n",
       "      <td>0.20</td>\n",
       "    </tr>\n",
       "    <tr>\n",
       "      <th>min</th>\n",
       "      <td>0.25800</td>\n",
       "      <td>0.296000</td>\n",
       "      <td>0.000000</td>\n",
       "      <td>-10.109000</td>\n",
       "      <td>0.000000</td>\n",
       "      <td>0.023200</td>\n",
       "      <td>0.000282</td>\n",
       "      <td>0.000000</td>\n",
       "      <td>0.021500</td>\n",
       "      <td>0.079600</td>\n",
       "      <td>64.934000</td>\n",
       "      <td>95467.000000</td>\n",
       "      <td>3.00</td>\n",
       "    </tr>\n",
       "    <tr>\n",
       "      <th>25%</th>\n",
       "      <td>0.63550</td>\n",
       "      <td>0.562000</td>\n",
       "      <td>1.750000</td>\n",
       "      <td>-6.650500</td>\n",
       "      <td>0.000000</td>\n",
       "      <td>0.045350</td>\n",
       "      <td>0.040225</td>\n",
       "      <td>0.000000</td>\n",
       "      <td>0.094675</td>\n",
       "      <td>0.341000</td>\n",
       "      <td>95.730750</td>\n",
       "      <td>184680.000000</td>\n",
       "      <td>4.00</td>\n",
       "    </tr>\n",
       "    <tr>\n",
       "      <th>50%</th>\n",
       "      <td>0.73300</td>\n",
       "      <td>0.678000</td>\n",
       "      <td>5.000000</td>\n",
       "      <td>-5.566500</td>\n",
       "      <td>1.000000</td>\n",
       "      <td>0.074950</td>\n",
       "      <td>0.109000</td>\n",
       "      <td>0.000000</td>\n",
       "      <td>0.118500</td>\n",
       "      <td>0.470500</td>\n",
       "      <td>120.116000</td>\n",
       "      <td>205047.500000</td>\n",
       "      <td>4.00</td>\n",
       "    </tr>\n",
       "    <tr>\n",
       "      <th>75%</th>\n",
       "      <td>0.79825</td>\n",
       "      <td>0.772250</td>\n",
       "      <td>8.250000</td>\n",
       "      <td>-4.363750</td>\n",
       "      <td>1.000000</td>\n",
       "      <td>0.137000</td>\n",
       "      <td>0.247750</td>\n",
       "      <td>0.000031</td>\n",
       "      <td>0.170750</td>\n",
       "      <td>0.641500</td>\n",
       "      <td>140.022750</td>\n",
       "      <td>221493.250000</td>\n",
       "      <td>4.00</td>\n",
       "    </tr>\n",
       "    <tr>\n",
       "      <th>max</th>\n",
       "      <td>0.96400</td>\n",
       "      <td>0.909000</td>\n",
       "      <td>11.000000</td>\n",
       "      <td>-2.384000</td>\n",
       "      <td>1.000000</td>\n",
       "      <td>0.530000</td>\n",
       "      <td>0.934000</td>\n",
       "      <td>0.134000</td>\n",
       "      <td>0.636000</td>\n",
       "      <td>0.931000</td>\n",
       "      <td>198.075000</td>\n",
       "      <td>417920.000000</td>\n",
       "      <td>5.00</td>\n",
       "    </tr>\n",
       "  </tbody>\n",
       "</table>\n",
       "</div>"
      ],
      "text/plain": [
       "       danceability      energy         key    loudness        mode  \\\n",
       "count     100.00000  100.000000  100.000000  100.000000  100.000000   \n",
       "mean        0.71646    0.659060    5.330000   -5.677640    0.590000   \n",
       "std         0.13107    0.145067    3.676447    1.777577    0.494311   \n",
       "min         0.25800    0.296000    0.000000  -10.109000    0.000000   \n",
       "25%         0.63550    0.562000    1.750000   -6.650500    0.000000   \n",
       "50%         0.73300    0.678000    5.000000   -5.566500    1.000000   \n",
       "75%         0.79825    0.772250    8.250000   -4.363750    1.000000   \n",
       "max         0.96400    0.909000   11.000000   -2.384000    1.000000   \n",
       "\n",
       "       speechiness  acousticness  instrumentalness    liveness     valence  \\\n",
       "count   100.000000    100.000000        100.000000  100.000000  100.000000   \n",
       "mean      0.115569      0.195701          0.001584    0.158302    0.484443   \n",
       "std       0.104527      0.220946          0.013449    0.111662    0.206145   \n",
       "min       0.023200      0.000282          0.000000    0.021500    0.079600   \n",
       "25%       0.045350      0.040225          0.000000    0.094675    0.341000   \n",
       "50%       0.074950      0.109000          0.000000    0.118500    0.470500   \n",
       "75%       0.137000      0.247750          0.000031    0.170750    0.641500   \n",
       "max       0.530000      0.934000          0.134000    0.636000    0.931000   \n",
       "\n",
       "            tempo    duration_ms  time_signature  \n",
       "count  100.000000     100.000000          100.00  \n",
       "mean   119.904180  205206.780000            3.98  \n",
       "std     28.795984   40007.893404            0.20  \n",
       "min     64.934000   95467.000000            3.00  \n",
       "25%     95.730750  184680.000000            4.00  \n",
       "50%    120.116000  205047.500000            4.00  \n",
       "75%    140.022750  221493.250000            4.00  \n",
       "max    198.075000  417920.000000            5.00  "
      ]
     },
     "execution_count": 3,
     "metadata": {},
     "output_type": "execute_result"
    }
   ],
   "source": [
    "songs = pandas.read_csv(\"top2018.csv\") #unedited version\n",
    "songs2018 = pandas.read_csv(\"top2018.csv\") #edited version\n",
    "songs2018.describe()"
   ]
  },
  {
   "cell_type": "code",
   "execution_count": 4,
   "metadata": {
    "scrolled": true
   },
   "outputs": [
    {
     "data": {
      "text/html": [
       "<div>\n",
       "<style scoped>\n",
       "    .dataframe tbody tr th:only-of-type {\n",
       "        vertical-align: middle;\n",
       "    }\n",
       "\n",
       "    .dataframe tbody tr th {\n",
       "        vertical-align: top;\n",
       "    }\n",
       "\n",
       "    .dataframe thead th {\n",
       "        text-align: right;\n",
       "    }\n",
       "</style>\n",
       "<table border=\"1\" class=\"dataframe\">\n",
       "  <thead>\n",
       "    <tr style=\"text-align: right;\">\n",
       "      <th></th>\n",
       "      <th>id</th>\n",
       "      <th>name</th>\n",
       "      <th>artists</th>\n",
       "      <th>danceability</th>\n",
       "      <th>energy</th>\n",
       "      <th>key</th>\n",
       "      <th>loudness</th>\n",
       "      <th>mode</th>\n",
       "      <th>speechiness</th>\n",
       "      <th>acousticness</th>\n",
       "      <th>instrumentalness</th>\n",
       "      <th>liveness</th>\n",
       "      <th>valence</th>\n",
       "      <th>tempo</th>\n",
       "      <th>duration_ms</th>\n",
       "      <th>time_signature</th>\n",
       "    </tr>\n",
       "  </thead>\n",
       "  <tbody>\n",
       "    <tr>\n",
       "      <th>0</th>\n",
       "      <td>6DCZcSspjsKoFjzjrWoCd</td>\n",
       "      <td>God's Plan</td>\n",
       "      <td>Drake</td>\n",
       "      <td>0.754</td>\n",
       "      <td>0.449</td>\n",
       "      <td>7</td>\n",
       "      <td>-9.211</td>\n",
       "      <td>1</td>\n",
       "      <td>0.1090</td>\n",
       "      <td>0.0332</td>\n",
       "      <td>0.000083</td>\n",
       "      <td>0.552</td>\n",
       "      <td>0.357</td>\n",
       "      <td>77.169</td>\n",
       "      <td>198973</td>\n",
       "      <td>4</td>\n",
       "    </tr>\n",
       "    <tr>\n",
       "      <th>1</th>\n",
       "      <td>3ee8Jmje8o58CHK66QrVC</td>\n",
       "      <td>SAD!</td>\n",
       "      <td>XXXTENTACION</td>\n",
       "      <td>0.740</td>\n",
       "      <td>0.613</td>\n",
       "      <td>8</td>\n",
       "      <td>-4.880</td>\n",
       "      <td>1</td>\n",
       "      <td>0.1450</td>\n",
       "      <td>0.2580</td>\n",
       "      <td>0.003720</td>\n",
       "      <td>0.123</td>\n",
       "      <td>0.473</td>\n",
       "      <td>75.023</td>\n",
       "      <td>166606</td>\n",
       "      <td>4</td>\n",
       "    </tr>\n",
       "    <tr>\n",
       "      <th>2</th>\n",
       "      <td>0e7ipj03S05BNilyu5bRz</td>\n",
       "      <td>rockstar (feat. 21 Savage)</td>\n",
       "      <td>Post Malone</td>\n",
       "      <td>0.587</td>\n",
       "      <td>0.535</td>\n",
       "      <td>5</td>\n",
       "      <td>-6.090</td>\n",
       "      <td>0</td>\n",
       "      <td>0.0898</td>\n",
       "      <td>0.1170</td>\n",
       "      <td>0.000066</td>\n",
       "      <td>0.131</td>\n",
       "      <td>0.140</td>\n",
       "      <td>159.847</td>\n",
       "      <td>218147</td>\n",
       "      <td>4</td>\n",
       "    </tr>\n",
       "    <tr>\n",
       "      <th>3</th>\n",
       "      <td>3swc6WTsr7rl9DqQKQA55</td>\n",
       "      <td>Psycho (feat. Ty Dolla $ign)</td>\n",
       "      <td>Post Malone</td>\n",
       "      <td>0.739</td>\n",
       "      <td>0.559</td>\n",
       "      <td>8</td>\n",
       "      <td>-8.011</td>\n",
       "      <td>1</td>\n",
       "      <td>0.1170</td>\n",
       "      <td>0.5800</td>\n",
       "      <td>0.000000</td>\n",
       "      <td>0.112</td>\n",
       "      <td>0.439</td>\n",
       "      <td>140.124</td>\n",
       "      <td>221440</td>\n",
       "      <td>4</td>\n",
       "    </tr>\n",
       "    <tr>\n",
       "      <th>4</th>\n",
       "      <td>2G7V7zsVDxg1yRsu7Ew9R</td>\n",
       "      <td>In My Feelings</td>\n",
       "      <td>Drake</td>\n",
       "      <td>0.835</td>\n",
       "      <td>0.626</td>\n",
       "      <td>1</td>\n",
       "      <td>-5.833</td>\n",
       "      <td>1</td>\n",
       "      <td>0.1250</td>\n",
       "      <td>0.0589</td>\n",
       "      <td>0.000060</td>\n",
       "      <td>0.396</td>\n",
       "      <td>0.350</td>\n",
       "      <td>91.030</td>\n",
       "      <td>217925</td>\n",
       "      <td>4</td>\n",
       "    </tr>\n",
       "  </tbody>\n",
       "</table>\n",
       "</div>"
      ],
      "text/plain": [
       "                      id                          name       artists  \\\n",
       "0  6DCZcSspjsKoFjzjrWoCd                    God's Plan         Drake   \n",
       "1  3ee8Jmje8o58CHK66QrVC                          SAD!  XXXTENTACION   \n",
       "2  0e7ipj03S05BNilyu5bRz    rockstar (feat. 21 Savage)   Post Malone   \n",
       "3  3swc6WTsr7rl9DqQKQA55  Psycho (feat. Ty Dolla $ign)   Post Malone   \n",
       "4  2G7V7zsVDxg1yRsu7Ew9R                In My Feelings         Drake   \n",
       "\n",
       "   danceability  energy  key  loudness  mode  speechiness  acousticness  \\\n",
       "0         0.754   0.449    7    -9.211     1       0.1090        0.0332   \n",
       "1         0.740   0.613    8    -4.880     1       0.1450        0.2580   \n",
       "2         0.587   0.535    5    -6.090     0       0.0898        0.1170   \n",
       "3         0.739   0.559    8    -8.011     1       0.1170        0.5800   \n",
       "4         0.835   0.626    1    -5.833     1       0.1250        0.0589   \n",
       "\n",
       "   instrumentalness  liveness  valence    tempo  duration_ms  time_signature  \n",
       "0          0.000083     0.552    0.357   77.169       198973               4  \n",
       "1          0.003720     0.123    0.473   75.023       166606               4  \n",
       "2          0.000066     0.131    0.140  159.847       218147               4  \n",
       "3          0.000000     0.112    0.439  140.124       221440               4  \n",
       "4          0.000060     0.396    0.350   91.030       217925               4  "
      ]
     },
     "execution_count": 4,
     "metadata": {},
     "output_type": "execute_result"
    }
   ],
   "source": [
    "songs2018.head()"
   ]
  },
  {
   "cell_type": "code",
   "execution_count": 5,
   "metadata": {
    "scrolled": true
   },
   "outputs": [
    {
     "data": {
      "text/html": [
       "<div>\n",
       "<style scoped>\n",
       "    .dataframe tbody tr th:only-of-type {\n",
       "        vertical-align: middle;\n",
       "    }\n",
       "\n",
       "    .dataframe tbody tr th {\n",
       "        vertical-align: top;\n",
       "    }\n",
       "\n",
       "    .dataframe thead th {\n",
       "        text-align: right;\n",
       "    }\n",
       "</style>\n",
       "<table border=\"1\" class=\"dataframe\">\n",
       "  <thead>\n",
       "    <tr style=\"text-align: right;\">\n",
       "      <th></th>\n",
       "      <th>danceability</th>\n",
       "      <th>energy</th>\n",
       "      <th>key</th>\n",
       "      <th>loudness</th>\n",
       "      <th>mode</th>\n",
       "      <th>speechiness</th>\n",
       "      <th>acousticness</th>\n",
       "      <th>instrumentalness</th>\n",
       "      <th>liveness</th>\n",
       "      <th>valence</th>\n",
       "      <th>tempo</th>\n",
       "      <th>duration_ms</th>\n",
       "      <th>time_signature</th>\n",
       "    </tr>\n",
       "  </thead>\n",
       "  <tbody>\n",
       "    <tr>\n",
       "      <th>count</th>\n",
       "      <td>228.000000</td>\n",
       "      <td>228.000000</td>\n",
       "      <td>228.000000</td>\n",
       "      <td>228.000000</td>\n",
       "      <td>228.000000</td>\n",
       "      <td>228.000000</td>\n",
       "      <td>228.000000</td>\n",
       "      <td>228.000000</td>\n",
       "      <td>228.000000</td>\n",
       "      <td>228.000000</td>\n",
       "      <td>228.000000</td>\n",
       "      <td>228.000000</td>\n",
       "      <td>228.000000</td>\n",
       "    </tr>\n",
       "    <tr>\n",
       "      <th>mean</th>\n",
       "      <td>0.700886</td>\n",
       "      <td>0.613452</td>\n",
       "      <td>5.192982</td>\n",
       "      <td>-6.410553</td>\n",
       "      <td>0.627193</td>\n",
       "      <td>0.147368</td>\n",
       "      <td>0.229892</td>\n",
       "      <td>0.014154</td>\n",
       "      <td>0.166209</td>\n",
       "      <td>0.449614</td>\n",
       "      <td>121.621719</td>\n",
       "      <td>200963.850877</td>\n",
       "      <td>3.978070</td>\n",
       "    </tr>\n",
       "    <tr>\n",
       "      <th>std</th>\n",
       "      <td>0.144450</td>\n",
       "      <td>0.166369</td>\n",
       "      <td>3.533046</td>\n",
       "      <td>2.641756</td>\n",
       "      <td>0.484615</td>\n",
       "      <td>0.131275</td>\n",
       "      <td>0.236033</td>\n",
       "      <td>0.079902</td>\n",
       "      <td>0.113102</td>\n",
       "      <td>0.207539</td>\n",
       "      <td>29.705234</td>\n",
       "      <td>38429.288934</td>\n",
       "      <td>0.272776</td>\n",
       "    </tr>\n",
       "    <tr>\n",
       "      <th>min</th>\n",
       "      <td>0.287000</td>\n",
       "      <td>0.056100</td>\n",
       "      <td>0.000000</td>\n",
       "      <td>-23.023000</td>\n",
       "      <td>0.000000</td>\n",
       "      <td>0.024600</td>\n",
       "      <td>0.000244</td>\n",
       "      <td>0.000000</td>\n",
       "      <td>0.041900</td>\n",
       "      <td>0.037900</td>\n",
       "      <td>59.635000</td>\n",
       "      <td>94246.000000</td>\n",
       "      <td>1.000000</td>\n",
       "    </tr>\n",
       "    <tr>\n",
       "      <th>25%</th>\n",
       "      <td>0.598500</td>\n",
       "      <td>0.510750</td>\n",
       "      <td>2.000000</td>\n",
       "      <td>-7.437750</td>\n",
       "      <td>0.000000</td>\n",
       "      <td>0.045350</td>\n",
       "      <td>0.043675</td>\n",
       "      <td>0.000000</td>\n",
       "      <td>0.099375</td>\n",
       "      <td>0.305250</td>\n",
       "      <td>96.475000</td>\n",
       "      <td>178476.750000</td>\n",
       "      <td>4.000000</td>\n",
       "    </tr>\n",
       "    <tr>\n",
       "      <th>50%</th>\n",
       "      <td>0.710500</td>\n",
       "      <td>0.610500</td>\n",
       "      <td>5.000000</td>\n",
       "      <td>-5.960000</td>\n",
       "      <td>1.000000</td>\n",
       "      <td>0.086550</td>\n",
       "      <td>0.151500</td>\n",
       "      <td>0.000000</td>\n",
       "      <td>0.123500</td>\n",
       "      <td>0.441500</td>\n",
       "      <td>120.181000</td>\n",
       "      <td>198053.500000</td>\n",
       "      <td>4.000000</td>\n",
       "    </tr>\n",
       "    <tr>\n",
       "      <th>75%</th>\n",
       "      <td>0.816250</td>\n",
       "      <td>0.733000</td>\n",
       "      <td>8.000000</td>\n",
       "      <td>-4.743000</td>\n",
       "      <td>1.000000</td>\n",
       "      <td>0.230000</td>\n",
       "      <td>0.351000</td>\n",
       "      <td>0.000004</td>\n",
       "      <td>0.202500</td>\n",
       "      <td>0.586000</td>\n",
       "      <td>144.926000</td>\n",
       "      <td>226140.250000</td>\n",
       "      <td>4.000000</td>\n",
       "    </tr>\n",
       "    <tr>\n",
       "      <th>max</th>\n",
       "      <td>0.964000</td>\n",
       "      <td>0.953000</td>\n",
       "      <td>11.000000</td>\n",
       "      <td>-1.723000</td>\n",
       "      <td>1.000000</td>\n",
       "      <td>0.588000</td>\n",
       "      <td>0.978000</td>\n",
       "      <td>0.918000</td>\n",
       "      <td>0.764000</td>\n",
       "      <td>0.953000</td>\n",
       "      <td>202.006000</td>\n",
       "      <td>361280.000000</td>\n",
       "      <td>5.000000</td>\n",
       "    </tr>\n",
       "  </tbody>\n",
       "</table>\n",
       "</div>"
      ],
      "text/plain": [
       "       danceability      energy         key    loudness        mode  \\\n",
       "count    228.000000  228.000000  228.000000  228.000000  228.000000   \n",
       "mean       0.700886    0.613452    5.192982   -6.410553    0.627193   \n",
       "std        0.144450    0.166369    3.533046    2.641756    0.484615   \n",
       "min        0.287000    0.056100    0.000000  -23.023000    0.000000   \n",
       "25%        0.598500    0.510750    2.000000   -7.437750    0.000000   \n",
       "50%        0.710500    0.610500    5.000000   -5.960000    1.000000   \n",
       "75%        0.816250    0.733000    8.000000   -4.743000    1.000000   \n",
       "max        0.964000    0.953000   11.000000   -1.723000    1.000000   \n",
       "\n",
       "       speechiness  acousticness  instrumentalness    liveness     valence  \\\n",
       "count   228.000000    228.000000        228.000000  228.000000  228.000000   \n",
       "mean      0.147368      0.229892          0.014154    0.166209    0.449614   \n",
       "std       0.131275      0.236033          0.079902    0.113102    0.207539   \n",
       "min       0.024600      0.000244          0.000000    0.041900    0.037900   \n",
       "25%       0.045350      0.043675          0.000000    0.099375    0.305250   \n",
       "50%       0.086550      0.151500          0.000000    0.123500    0.441500   \n",
       "75%       0.230000      0.351000          0.000004    0.202500    0.586000   \n",
       "max       0.588000      0.978000          0.918000    0.764000    0.953000   \n",
       "\n",
       "            tempo    duration_ms  time_signature  \n",
       "count  228.000000     228.000000      228.000000  \n",
       "mean   121.621719  200963.850877        3.978070  \n",
       "std     29.705234   38429.288934        0.272776  \n",
       "min     59.635000   94246.000000        1.000000  \n",
       "25%     96.475000  178476.750000        4.000000  \n",
       "50%    120.181000  198053.500000        4.000000  \n",
       "75%    144.926000  226140.250000        4.000000  \n",
       "max    202.006000  361280.000000        5.000000  "
      ]
     },
     "execution_count": 5,
     "metadata": {},
     "output_type": "execute_result"
    }
   ],
   "source": [
    "songs2019 = pandas.read_csv(\"data_2019.csv\")\n",
    "songs2019.describe()"
   ]
  },
  {
   "cell_type": "code",
   "execution_count": 6,
   "metadata": {
    "scrolled": true
   },
   "outputs": [
    {
     "data": {
      "text/html": [
       "<div>\n",
       "<style scoped>\n",
       "    .dataframe tbody tr th:only-of-type {\n",
       "        vertical-align: middle;\n",
       "    }\n",
       "\n",
       "    .dataframe tbody tr th {\n",
       "        vertical-align: top;\n",
       "    }\n",
       "\n",
       "    .dataframe thead th {\n",
       "        text-align: right;\n",
       "    }\n",
       "</style>\n",
       "<table border=\"1\" class=\"dataframe\">\n",
       "  <thead>\n",
       "    <tr style=\"text-align: right;\">\n",
       "      <th></th>\n",
       "      <th>danceability</th>\n",
       "      <th>energy</th>\n",
       "      <th>key</th>\n",
       "      <th>loudness</th>\n",
       "      <th>mode</th>\n",
       "      <th>speechiness</th>\n",
       "      <th>acousticness</th>\n",
       "      <th>instrumentalness</th>\n",
       "      <th>liveness</th>\n",
       "      <th>valence</th>\n",
       "      <th>tempo</th>\n",
       "      <th>type</th>\n",
       "      <th>id</th>\n",
       "      <th>uri</th>\n",
       "      <th>track_href</th>\n",
       "      <th>analysis_url</th>\n",
       "      <th>duration_ms</th>\n",
       "      <th>time_signature</th>\n",
       "    </tr>\n",
       "  </thead>\n",
       "  <tbody>\n",
       "    <tr>\n",
       "      <th>0</th>\n",
       "      <td>0.717</td>\n",
       "      <td>0.653</td>\n",
       "      <td>1</td>\n",
       "      <td>-5.634</td>\n",
       "      <td>1</td>\n",
       "      <td>0.0658</td>\n",
       "      <td>0.22900</td>\n",
       "      <td>0.000000</td>\n",
       "      <td>0.1010</td>\n",
       "      <td>0.412</td>\n",
       "      <td>106.966</td>\n",
       "      <td>audio_features</td>\n",
       "      <td>3e9HZxeyfWwjeyPAMmWSSQ</td>\n",
       "      <td>spotify:track:3e9HZxeyfWwjeyPAMmWSSQ</td>\n",
       "      <td>https://api.spotify.com/v1/tracks/3e9HZxeyfWwj...</td>\n",
       "      <td>https://api.spotify.com/v1/audio-analysis/3e9H...</td>\n",
       "      <td>207320</td>\n",
       "      <td>4</td>\n",
       "    </tr>\n",
       "    <tr>\n",
       "      <th>1</th>\n",
       "      <td>0.752</td>\n",
       "      <td>0.488</td>\n",
       "      <td>6</td>\n",
       "      <td>-7.050</td>\n",
       "      <td>1</td>\n",
       "      <td>0.0705</td>\n",
       "      <td>0.29700</td>\n",
       "      <td>0.000009</td>\n",
       "      <td>0.0936</td>\n",
       "      <td>0.533</td>\n",
       "      <td>136.041</td>\n",
       "      <td>audio_features</td>\n",
       "      <td>5p7ujcrUXASCNwRaWNHR1C</td>\n",
       "      <td>spotify:track:5p7ujcrUXASCNwRaWNHR1C</td>\n",
       "      <td>https://api.spotify.com/v1/tracks/5p7ujcrUXASC...</td>\n",
       "      <td>https://api.spotify.com/v1/audio-analysis/5p7u...</td>\n",
       "      <td>201661</td>\n",
       "      <td>4</td>\n",
       "    </tr>\n",
       "    <tr>\n",
       "      <th>2</th>\n",
       "      <td>0.834</td>\n",
       "      <td>0.730</td>\n",
       "      <td>8</td>\n",
       "      <td>-3.714</td>\n",
       "      <td>1</td>\n",
       "      <td>0.2220</td>\n",
       "      <td>0.00513</td>\n",
       "      <td>0.000000</td>\n",
       "      <td>0.1240</td>\n",
       "      <td>0.446</td>\n",
       "      <td>155.008</td>\n",
       "      <td>audio_features</td>\n",
       "      <td>2xLMifQCjDGFmkHkpNLD9h</td>\n",
       "      <td>spotify:track:2xLMifQCjDGFmkHkpNLD9h</td>\n",
       "      <td>https://api.spotify.com/v1/tracks/2xLMifQCjDGF...</td>\n",
       "      <td>https://api.spotify.com/v1/audio-analysis/2xLM...</td>\n",
       "      <td>312820</td>\n",
       "      <td>4</td>\n",
       "    </tr>\n",
       "    <tr>\n",
       "      <th>3</th>\n",
       "      <td>0.760</td>\n",
       "      <td>0.479</td>\n",
       "      <td>2</td>\n",
       "      <td>-5.574</td>\n",
       "      <td>1</td>\n",
       "      <td>0.0466</td>\n",
       "      <td>0.55600</td>\n",
       "      <td>0.000000</td>\n",
       "      <td>0.0703</td>\n",
       "      <td>0.913</td>\n",
       "      <td>89.911</td>\n",
       "      <td>audio_features</td>\n",
       "      <td>3KkXRkHbMCARz0aVfEt68P</td>\n",
       "      <td>spotify:track:3KkXRkHbMCARz0aVfEt68P</td>\n",
       "      <td>https://api.spotify.com/v1/tracks/3KkXRkHbMCAR...</td>\n",
       "      <td>https://api.spotify.com/v1/audio-analysis/3KkX...</td>\n",
       "      <td>158040</td>\n",
       "      <td>4</td>\n",
       "    </tr>\n",
       "    <tr>\n",
       "      <th>4</th>\n",
       "      <td>0.579</td>\n",
       "      <td>0.904</td>\n",
       "      <td>5</td>\n",
       "      <td>-2.729</td>\n",
       "      <td>1</td>\n",
       "      <td>0.0618</td>\n",
       "      <td>0.19300</td>\n",
       "      <td>0.000000</td>\n",
       "      <td>0.0640</td>\n",
       "      <td>0.681</td>\n",
       "      <td>82.014</td>\n",
       "      <td>audio_features</td>\n",
       "      <td>1rqqCSm0Qe4I9rUvWncaom</td>\n",
       "      <td>spotify:track:1rqqCSm0Qe4I9rUvWncaom</td>\n",
       "      <td>https://api.spotify.com/v1/tracks/1rqqCSm0Qe4I...</td>\n",
       "      <td>https://api.spotify.com/v1/audio-analysis/1rqq...</td>\n",
       "      <td>190947</td>\n",
       "      <td>4</td>\n",
       "    </tr>\n",
       "  </tbody>\n",
       "</table>\n",
       "</div>"
      ],
      "text/plain": [
       "   danceability  energy  key  loudness  mode  speechiness  acousticness  \\\n",
       "0         0.717   0.653    1    -5.634     1       0.0658       0.22900   \n",
       "1         0.752   0.488    6    -7.050     1       0.0705       0.29700   \n",
       "2         0.834   0.730    8    -3.714     1       0.2220       0.00513   \n",
       "3         0.760   0.479    2    -5.574     1       0.0466       0.55600   \n",
       "4         0.579   0.904    5    -2.729     1       0.0618       0.19300   \n",
       "\n",
       "   instrumentalness  liveness  valence    tempo            type  \\\n",
       "0          0.000000    0.1010    0.412  106.966  audio_features   \n",
       "1          0.000009    0.0936    0.533  136.041  audio_features   \n",
       "2          0.000000    0.1240    0.446  155.008  audio_features   \n",
       "3          0.000000    0.0703    0.913   89.911  audio_features   \n",
       "4          0.000000    0.0640    0.681   82.014  audio_features   \n",
       "\n",
       "                       id                                   uri  \\\n",
       "0  3e9HZxeyfWwjeyPAMmWSSQ  spotify:track:3e9HZxeyfWwjeyPAMmWSSQ   \n",
       "1  5p7ujcrUXASCNwRaWNHR1C  spotify:track:5p7ujcrUXASCNwRaWNHR1C   \n",
       "2  2xLMifQCjDGFmkHkpNLD9h  spotify:track:2xLMifQCjDGFmkHkpNLD9h   \n",
       "3  3KkXRkHbMCARz0aVfEt68P  spotify:track:3KkXRkHbMCARz0aVfEt68P   \n",
       "4  1rqqCSm0Qe4I9rUvWncaom  spotify:track:1rqqCSm0Qe4I9rUvWncaom   \n",
       "\n",
       "                                          track_href  \\\n",
       "0  https://api.spotify.com/v1/tracks/3e9HZxeyfWwj...   \n",
       "1  https://api.spotify.com/v1/tracks/5p7ujcrUXASC...   \n",
       "2  https://api.spotify.com/v1/tracks/2xLMifQCjDGF...   \n",
       "3  https://api.spotify.com/v1/tracks/3KkXRkHbMCAR...   \n",
       "4  https://api.spotify.com/v1/tracks/1rqqCSm0Qe4I...   \n",
       "\n",
       "                                        analysis_url  duration_ms  \\\n",
       "0  https://api.spotify.com/v1/audio-analysis/3e9H...       207320   \n",
       "1  https://api.spotify.com/v1/audio-analysis/5p7u...       201661   \n",
       "2  https://api.spotify.com/v1/audio-analysis/2xLM...       312820   \n",
       "3  https://api.spotify.com/v1/audio-analysis/3KkX...       158040   \n",
       "4  https://api.spotify.com/v1/audio-analysis/1rqq...       190947   \n",
       "\n",
       "   time_signature  \n",
       "0               4  \n",
       "1               4  \n",
       "2               4  \n",
       "3               4  \n",
       "4               4  "
      ]
     },
     "execution_count": 6,
     "metadata": {},
     "output_type": "execute_result"
    }
   ],
   "source": [
    "songs2019.head()"
   ]
  },
  {
   "cell_type": "code",
   "execution_count": 7,
   "metadata": {},
   "outputs": [],
   "source": [
    "songs2019titles = pandas.read_csv(\"popular_music_2019.csv\")"
   ]
  },
  {
   "cell_type": "code",
   "execution_count": 20,
   "metadata": {},
   "outputs": [
    {
     "name": "stdout",
     "output_type": "stream",
     "text": [
      "Index(['﻿Spotify URI', 'Track Name', 'Artist Name', 'Album Name',\n",
      "       'Disc Number', 'Track Number', 'Track Duration (ms)', 'Added By',\n",
      "       'Added At'],\n",
      "      dtype='object')\n"
     ]
    },
    {
     "data": {
      "text/html": [
       "<div>\n",
       "<style scoped>\n",
       "    .dataframe tbody tr th:only-of-type {\n",
       "        vertical-align: middle;\n",
       "    }\n",
       "\n",
       "    .dataframe tbody tr th {\n",
       "        vertical-align: top;\n",
       "    }\n",
       "\n",
       "    .dataframe thead th {\n",
       "        text-align: right;\n",
       "    }\n",
       "</style>\n",
       "<table border=\"1\" class=\"dataframe\">\n",
       "  <thead>\n",
       "    <tr style=\"text-align: right;\">\n",
       "      <th></th>\n",
       "      <th>﻿Spotify URI</th>\n",
       "      <th>Track Name</th>\n",
       "      <th>Artist Name</th>\n",
       "      <th>Album Name</th>\n",
       "      <th>Disc Number</th>\n",
       "      <th>Track Number</th>\n",
       "      <th>Track Duration (ms)</th>\n",
       "      <th>Added By</th>\n",
       "      <th>Added At</th>\n",
       "    </tr>\n",
       "  </thead>\n",
       "  <tbody>\n",
       "    <tr>\n",
       "      <th>0</th>\n",
       "      <td>spotify:track:3e9HZxeyfWwjeyPAMmWSSQ</td>\n",
       "      <td>thank u, next</td>\n",
       "      <td>Ariana Grande</td>\n",
       "      <td>thank u, next</td>\n",
       "      <td>1</td>\n",
       "      <td>11</td>\n",
       "      <td>207320</td>\n",
       "      <td>spotify:user:12153926993</td>\n",
       "      <td>2019-04-26T22:56:23Z</td>\n",
       "    </tr>\n",
       "    <tr>\n",
       "      <th>1</th>\n",
       "      <td>spotify:track:5p7ujcrUXASCNwRaWNHR1C</td>\n",
       "      <td>Without Me</td>\n",
       "      <td>Halsey</td>\n",
       "      <td>Without Me</td>\n",
       "      <td>1</td>\n",
       "      <td>1</td>\n",
       "      <td>201660</td>\n",
       "      <td>spotify:user:12153926993</td>\n",
       "      <td>2019-04-26T22:57:00Z</td>\n",
       "    </tr>\n",
       "    <tr>\n",
       "      <th>2</th>\n",
       "      <td>spotify:track:2xLMifQCjDGFmkHkpNLD9h</td>\n",
       "      <td>SICKO MODE</td>\n",
       "      <td>Travis Scott</td>\n",
       "      <td>ASTROWORLD</td>\n",
       "      <td>1</td>\n",
       "      <td>3</td>\n",
       "      <td>312820</td>\n",
       "      <td>spotify:user:12153926993</td>\n",
       "      <td>2019-04-26T22:57:10Z</td>\n",
       "    </tr>\n",
       "    <tr>\n",
       "      <th>3</th>\n",
       "      <td>spotify:track:3KkXRkHbMCARz0aVfEt68P</td>\n",
       "      <td>Sunflower - Spider-Man: Into the Spider-Verse</td>\n",
       "      <td>Post Malone, Swae Lee</td>\n",
       "      <td>Spider-Man: Into the Spider-Verse (Soundtrack ...</td>\n",
       "      <td>1</td>\n",
       "      <td>2</td>\n",
       "      <td>158040</td>\n",
       "      <td>spotify:user:12153926993</td>\n",
       "      <td>2019-04-26T22:57:22Z</td>\n",
       "    </tr>\n",
       "    <tr>\n",
       "      <th>4</th>\n",
       "      <td>spotify:track:1rqqCSm0Qe4I9rUvWncaom</td>\n",
       "      <td>High Hopes</td>\n",
       "      <td>Panic! At The Disco</td>\n",
       "      <td>Pray For The Wicked</td>\n",
       "      <td>1</td>\n",
       "      <td>4</td>\n",
       "      <td>190946</td>\n",
       "      <td>spotify:user:12153926993</td>\n",
       "      <td>2019-04-26T22:57:31Z</td>\n",
       "    </tr>\n",
       "  </tbody>\n",
       "</table>\n",
       "</div>"
      ],
      "text/plain": [
       "                           ﻿Spotify URI  \\\n",
       "0  spotify:track:3e9HZxeyfWwjeyPAMmWSSQ   \n",
       "1  spotify:track:5p7ujcrUXASCNwRaWNHR1C   \n",
       "2  spotify:track:2xLMifQCjDGFmkHkpNLD9h   \n",
       "3  spotify:track:3KkXRkHbMCARz0aVfEt68P   \n",
       "4  spotify:track:1rqqCSm0Qe4I9rUvWncaom   \n",
       "\n",
       "                                      Track Name            Artist Name  \\\n",
       "0                                  thank u, next          Ariana Grande   \n",
       "1                                     Without Me                 Halsey   \n",
       "2                                     SICKO MODE           Travis Scott   \n",
       "3  Sunflower - Spider-Man: Into the Spider-Verse  Post Malone, Swae Lee   \n",
       "4                                     High Hopes    Panic! At The Disco   \n",
       "\n",
       "                                          Album Name  Disc Number  \\\n",
       "0                                      thank u, next            1   \n",
       "1                                         Without Me            1   \n",
       "2                                         ASTROWORLD            1   \n",
       "3  Spider-Man: Into the Spider-Verse (Soundtrack ...            1   \n",
       "4                                Pray For The Wicked            1   \n",
       "\n",
       "   Track Number  Track Duration (ms)                  Added By  \\\n",
       "0            11               207320  spotify:user:12153926993   \n",
       "1             1               201660  spotify:user:12153926993   \n",
       "2             3               312820  spotify:user:12153926993   \n",
       "3             2               158040  spotify:user:12153926993   \n",
       "4             4               190946  spotify:user:12153926993   \n",
       "\n",
       "               Added At  \n",
       "0  2019-04-26T22:56:23Z  \n",
       "1  2019-04-26T22:57:00Z  \n",
       "2  2019-04-26T22:57:10Z  \n",
       "3  2019-04-26T22:57:22Z  \n",
       "4  2019-04-26T22:57:31Z  "
      ]
     },
     "execution_count": 20,
     "metadata": {},
     "output_type": "execute_result"
    }
   ],
   "source": [
    "songs2019titles.columns.str.replace(' ', '_')\n",
    "songs2019titles.head()"
   ]
  },
  {
   "cell_type": "code",
   "execution_count": 9,
   "metadata": {
    "scrolled": true
   },
   "outputs": [
    {
     "data": {
      "image/png": "[encoded data removed]",
      "text/plain": [
       "<Figure size 432x288 with 1 Axes>"
      ]
     },
     "metadata": {},
     "output_type": "display_data"
    },
    {
     "data": {
      "image/png": "[encoded data removed]",
      "text/plain": [
       "<Figure size 432x288 with 1 Axes>"
      ]
     },
     "metadata": {},
     "output_type": "display_data"
    },
    {
     "data": {
      "image/png": "[encoded data removed]",
      "text/plain": [
       "<Figure size 432x288 with 1 Axes>"
      ]
     },
     "metadata": {},
     "output_type": "display_data"
    },
    {
     "data": {
      "image/png": "[encoded data removed]",
      "text/plain": [
       "<Figure size 432x288 with 1 Axes>"
      ]
     },
     "metadata": {},
     "output_type": "display_data"
    },
    {
     "data": {
      "image/png": "[encoded data removed]",
      "text/plain": [
       "<Figure size 432x288 with 1 Axes>"
      ]
     },
     "metadata": {},
     "output_type": "display_data"
    },
    {
     "data": {
      "image/png": "[encoded data removed]",
      "text/plain": [
       "<Figure size 432x288 with 1 Axes>"
      ]
     },
     "metadata": {},
     "output_type": "display_data"
    },
    {
     "data": {
      "image/png": "[encoded data removed]",
      "text/plain": [
       "<Figure size 432x288 with 1 Axes>"
      ]
     },
     "metadata": {},
     "output_type": "display_data"
    },
    {
     "data": {
      "image/png": "[encoded data removed]",
      "text/plain": [
       "<Figure size 432x288 with 1 Axes>"
      ]
     },
     "metadata": {},
     "output_type": "display_data"
    },
    {
     "data": {
      "image/png": "[encoded data removed]",
      "text/plain": [
       "<Figure size 432x288 with 1 Axes>"
      ]
     },
     "metadata": {},
     "output_type": "display_data"
    },
    {
     "data": {
      "image/png": "[encoded data removed]",
      "text/plain": [
       "<Figure size 432x288 with 1 Axes>"
      ]
     },
     "metadata": {},
     "output_type": "display_data"
    },
    {
     "data": {
      "image/png": "[encoded data removed]",
      "text/plain": [
       "<Figure size 432x288 with 1 Axes>"
      ]
     },
     "metadata": {},
     "output_type": "display_data"
    },
    {
     "data": {
      "image/png": "[encoded data removed]",
      "text/plain": [
       "<Figure size 432x288 with 1 Axes>"
      ]
     },
     "metadata": {},
     "output_type": "display_data"
    },
    {
     "data": {
      "image/png": "[encoded data removed]",
      "text/plain": [
       "<Figure size 432x288 with 1 Axes>"
      ]
     },
     "metadata": {},
     "output_type": "display_data"
    },
    {
     "data": {
      "image/png": "[encoded data removed]",
      "text/plain": [
       "<Figure size 432x288 with 1 Axes>"
      ]
     },
     "metadata": {},
     "output_type": "display_data"
    },
    {
     "data": {
      "image/png": "[encoded data removed]",
      "text/plain": [
       "<Figure size 432x288 with 1 Axes>"
      ]
     },
     "metadata": {},
     "output_type": "display_data"
    },
    {
     "data": {
      "image/png": "[encoded data removed]",
      "text/plain": [
       "<Figure size 432x288 with 1 Axes>"
      ]
     },
     "metadata": {},
     "output_type": "display_data"
    },
    {
     "name": "stdout",
     "output_type": "stream",
     "text": [
      "valence 2018\n"
     ]
    },
    {
     "data": {
      "image/png": "[encoded data removed]",
      "text/plain": [
       "<Figure size 432x288 with 1 Axes>"
      ]
     },
     "metadata": {},
     "output_type": "display_data"
    },
    {
     "data": {
      "image/png": "[encoded data removed]",
      "text/plain": [
       "<Figure size 432x288 with 1 Axes>"
      ]
     },
     "metadata": {},
     "output_type": "display_data"
    },
    {
     "data": {
      "image/png": "[encoded data removed]",
      "text/plain": [
       "<Figure size 432x288 with 1 Axes>"
      ]
     },
     "metadata": {},
     "output_type": "display_data"
    },
    {
     "data": {
      "image/png": "[encoded data removed]",
      "text/plain": [
       "<Figure size 432x288 with 1 Axes>"
      ]
     },
     "metadata": {},
     "output_type": "display_data"
    },
    {
     "data": {
      "image/png": "[encoded data removed]",
      "text/plain": [
       "<Figure size 432x288 with 1 Axes>"
      ]
     },
     "metadata": {},
     "output_type": "display_data"
    },
    {
     "data": {
      "image/png": "[encoded data removed]",
      "text/plain": [
       "<Figure size 432x288 with 1 Axes>"
      ]
     },
     "metadata": {},
     "output_type": "display_data"
    },
    {
     "data": {
      "image/png": "[encoded data removed]",
      "text/plain": [
       "<Figure size 432x288 with 1 Axes>"
      ]
     },
     "metadata": {},
     "output_type": "display_data"
    },
    {
     "data": {
      "image/png": "[encoded data removed]",
      "text/plain": [
       "<Figure size 432x288 with 1 Axes>"
      ]
     },
     "metadata": {},
     "output_type": "display_data"
    }
   ],
   "source": [
    "danceability2018 = []  #comaparison of graphs shows that the data is different\n",
    "danceability2019 = []\n",
    "\n",
    "for x in songs2018.danceability:\n",
    "    danceability2018.append(x)\n",
    "for x in songs2019.danceability:\n",
    "    danceability2019.append(x)\n",
    "\n",
    "pyplot.hist(danceability2018)\n",
    "pyplot.title('Danceability2018')\n",
    "pyplot.xlabel('Value')\n",
    "pyplot.ylabel('Frequency')\n",
    "pyplot.show()\n",
    "\n",
    "pyplot.title('Danceability2019')\n",
    "pyplot.xlabel('Value')\n",
    "pyplot.ylabel('Frequency')\n",
    "pyplot.hist(danceability2019)\n",
    "pyplot.show()\n",
    "\n",
    "energy2018 = []\n",
    "energy2019 = []\n",
    "\n",
    "for x in songs2018.energy:\n",
    "    energy2018.append(x)\n",
    "for x in songs2019.energy:\n",
    "    energy2019.append(x)\n",
    "\n",
    "pyplot.hist(energy2018)\n",
    "pyplot.title('energy2018')\n",
    "pyplot.xlabel('Value')\n",
    "pyplot.ylabel('Frequency')\n",
    "pyplot.show()\n",
    "\n",
    "pyplot.hist(energy2019)\n",
    "pyplot.title('energy2019')\n",
    "pyplot.xlabel('Value')\n",
    "pyplot.ylabel('Frequency')\n",
    "pyplot.show()\n",
    "\n",
    "pyplot.hist(songs2018.key)\n",
    "pyplot.title('Key 2018')\n",
    "pyplot.xlabel('Value')\n",
    "pyplot.ylabel('Frequency')\n",
    "pyplot.show()\n",
    "\n",
    "pyplot.hist(songs2019.key)\n",
    "pyplot.title('Key 2019')\n",
    "pyplot.xlabel('Value')\n",
    "pyplot.ylabel('Frequency')\n",
    "pyplot.show()\n",
    "\n",
    "\n",
    "pyplot.hist(songs2018.loudness)\n",
    "pyplot.title('loudness 2018')\n",
    "pyplot.xlabel('Value')\n",
    "pyplot.ylabel('Frequency')\n",
    "pyplot.show()\n",
    "\n",
    "pyplot.hist(songs2019.loudness)\n",
    "pyplot.title('loudness 2019')\n",
    "pyplot.xlabel('Value')\n",
    "pyplot.ylabel('Frequency')\n",
    "pyplot.show()\n",
    "\n",
    "\n",
    "pyplot.hist(songs2018.speechiness)\n",
    "pyplot.title('speechiness 2018')\n",
    "pyplot.xlabel('Value')\n",
    "pyplot.ylabel('Frequency')\n",
    "pyplot.show()\n",
    "\n",
    "pyplot.hist(songs2019.speechiness)\n",
    "pyplot.title('speechiness 2019')\n",
    "pyplot.xlabel('Value')\n",
    "pyplot.ylabel('Frequency')\n",
    "pyplot.show()\n",
    "\n",
    "\n",
    "pyplot.hist(songs2018.acousticness)\n",
    "pyplot.title('acousticness 2018')\n",
    "pyplot.xlabel('Value')\n",
    "pyplot.ylabel('Frequency')\n",
    "pyplot.show()\n",
    "\n",
    "pyplot.hist(songs2019.acousticness)\n",
    "pyplot.title('acousticness 2019')\n",
    "pyplot.xlabel('Value')\n",
    "pyplot.ylabel('Frequency')\n",
    "pyplot.show()\n",
    "\n",
    "\n",
    "pyplot.hist(songs2018.instrumentalness)\n",
    "pyplot.title('instrumentalness 2018')\n",
    "pyplot.xlabel('Value')\n",
    "pyplot.ylabel('Frequency')\n",
    "pyplot.show()\n",
    "\n",
    "pyplot.hist(songs2019.instrumentalness)\n",
    "pyplot.title('instrumentalness 2019')\n",
    "pyplot.xlabel('Value')\n",
    "pyplot.ylabel('Frequency')\n",
    "pyplot.show()\n",
    "\n",
    "\n",
    "pyplot.hist(songs2018.liveness)\n",
    "pyplot.title('liveness 2018')\n",
    "pyplot.xlabel('Value')\n",
    "pyplot.ylabel('Frequency')\n",
    "pyplot.show()\n",
    "\n",
    "pyplot.hist(songs2019.liveness)\n",
    "pyplot.title('liveness 2019')\n",
    "pyplot.xlabel('Value')\n",
    "pyplot.ylabel('Frequency')\n",
    "pyplot.show()\n",
    "\n",
    "\n",
    "print('valence 2018')\n",
    "pyplot.hist(songs2018.valence)\n",
    "pyplot.title('valence 2018')\n",
    "pyplot.xlabel('Value')\n",
    "pyplot.ylabel('Frequency')\n",
    "pyplot.show()\n",
    "\n",
    "pyplot.hist(songs2019.valence)\n",
    "pyplot.title('valence 2019')\n",
    "pyplot.xlabel('Value')\n",
    "pyplot.ylabel('Frequency')\n",
    "pyplot.show()\n",
    "\n",
    "\n",
    "pyplot.hist(songs2018.tempo)\n",
    "pyplot.title('tempo 2018')\n",
    "pyplot.xlabel('Value')\n",
    "pyplot.ylabel('Frequency')\n",
    "pyplot.show()\n",
    "\n",
    "pyplot.hist(songs2019.tempo)\n",
    "pyplot.title('tempo 2019')\n",
    "pyplot.xlabel('Value')\n",
    "pyplot.ylabel('Frequency')\n",
    "pyplot.show()\n",
    "\n",
    "\n",
    "pyplot.hist(songs2018.duration_ms)\n",
    "pyplot.title('duration_ms 2018')\n",
    "pyplot.xlabel('Value')\n",
    "pyplot.ylabel('Frequency')\n",
    "pyplot.show()\n",
    "\n",
    "pyplot.hist(songs2019.duration_ms)\n",
    "pyplot.title('duration_ms 2019')\n",
    "pyplot.xlabel('Value')\n",
    "pyplot.ylabel('Frequency')\n",
    "pyplot.show()\n",
    "\n",
    "\n",
    "pyplot.hist(songs2018.time_signature)\n",
    "pyplot.title('time_signature 2018')\n",
    "pyplot.xlabel('Value')\n",
    "pyplot.ylabel('Frequency')\n",
    "pyplot.show()\n",
    "\n",
    "pyplot.hist(songs2019.time_signature)\n",
    "pyplot.title('time_signature 2019')\n",
    "pyplot.xlabel('Value')\n",
    "pyplot.ylabel('Frequency')\n",
    "pyplot.show()\n"
   ]
  },
  {
   "cell_type": "code",
   "execution_count": 10,
   "metadata": {},
   "outputs": [],
   "source": [
    "danceability2018mean = numpy.mean(songs2018.danceability) #Find the Mean of each characteristic of the 2018 data\n",
    "energy2018mean = numpy.mean(songs2018.energy)\n",
    "key2018mean = numpy.mean(songs2018.key)\n",
    "loudness2018mean = numpy.mean(songs2018.loudness)\n",
    "speechiness2018mean = numpy.mean(songs2018.speechiness)\n",
    "acousticness2018mean = numpy.mean(songs2018.acousticness)\n",
    "instrumentalness2018mean = numpy.mean(songs2018.instrumentalness)\n",
    "liveness2018mean = numpy.mean(songs2018.liveness)\n",
    "valence2018mean = numpy.mean(songs2018.valence)\n",
    "tempo2018mean = numpy.mean(songs2018.tempo)\n",
    "\n",
    "danceability2018var = numpy.var(songs2018.danceability) #Find the Variance of each characteristic of the 2018 data\n",
    "energy2018var = numpy.var(songs2018.energy)\n",
    "key2018var = numpy.var(songs2018.key)\n",
    "loudness2018var = numpy.var(songs2018.loudness)\n",
    "speechiness2018var = numpy.var(songs2018.speechiness)\n",
    "acousticness2018var = numpy.var(songs2018.acousticness)\n",
    "instrumentalness2018var = numpy.var(songs2018.instrumentalness)\n",
    "liveness2018var = numpy.var(songs2018.liveness)\n",
    "valence2018var = numpy.var(songs2018.valence)\n",
    "tempo2018var = numpy.var(songs2018.tempo)"
   ]
  },
  {
   "cell_type": "code",
   "execution_count": 11,
   "metadata": {},
   "outputs": [],
   "source": [
    "matrix = [] #This array holds a list of arrays that each contains the differences by category\n",
    "songsums = [] #This array holds a sum of all the differences for each song\n",
    "\n",
    "danceabilitydiff = [] # a list containing each songs dancebility difference from the mean\n",
    "for song in songs2019.danceability:\n",
    "    x = abs (song - danceability2018mean) / danceability2018var # x = dancibility difference which is defined as:\n",
    "    danceabilitydiff.append(x)                                  # the amount of deviations away from the mean \n",
    "                                                                # dancibility from 2018\n",
    "energydiff = []\n",
    "for song in songs2019.energy:\n",
    "    x = abs (song - energy2018mean) / energy2018var\n",
    "    energydiff.append(x)\n",
    "\n",
    "keydiff = []\n",
    "for song in songs2019.energy:                                    # Do this for all Characterisitics of the data\n",
    "    x = abs (song - key2018mean) / key2018var\n",
    "    energydiff.append(x)\n",
    "    \n",
    "loudnessdiff = []\n",
    "for song in songs2019.energy:\n",
    "    x = abs (song - loudness2018mean) / loudness2018var\n",
    "    energydiff.append(x)\n",
    "\n",
    "speechinessdiff = []\n",
    "for song in songs2019.energy:\n",
    "    x = abs (song - speechiness2018mean) / speechiness2018var\n",
    "    energydiff.append(x)\n",
    "\n",
    "acousticnessdiff = []\n",
    "for song in songs2019.energy:\n",
    "    x = abs (song - acousticness2018mean) / acousticness2018var\n",
    "    energydiff.append(x)\n",
    "    \n",
    "instrumentalnessdiff = []\n",
    "for song in songs2019.energy:\n",
    "    x = abs (song - instrumentalness2018mean) / instrumentalness2018var\n",
    "    energydiff.append(x)\n",
    "    \n",
    "livenessdiff = []\n",
    "for song in songs2019.energy:\n",
    "    x = abs (song - liveness2018mean) / liveness2018var\n",
    "    energydiff.append(x)\n",
    "\n",
    "valencediff = []\n",
    "for song in songs2019.energy:\n",
    "    x = abs (song - valence2018mean) / valence2018var\n",
    "    energydiff.append(x)\n",
    "    \n",
    "tempodiff = []\n",
    "for song in songs2019.energy:\n",
    "    x = abs (song - tempo2018mean) / tempo2018var\n",
    "    energydiff.append(x)\n",
    "\n",
    "matrix.append(danceabilitydiff)\n",
    "matrix.append(energydiff)\n",
    "# print(matrix)\n",
    "\n",
    "for i in range (0,228):  # for every song\n",
    "    sum = 0\n",
    "    for x in matrix:     # for every element in matrix\n",
    "        sum = sum + x[i] # add first element to that song difference\n",
    "    songsums.append(sum) # create a sum of all the SD that a song was away from the 2018 common characteristics\n",
    "# print(songsums)\n",
    "songsumsavg = numpy.mean(songsums)/10\n",
    "songsumsvar = numpy.var(songsums)"
   ]
  },
  {
   "cell_type": "code",
   "execution_count": 45,
   "metadata": {},
   "outputs": [
    {
     "name": "stdout",
     "output_type": "stream",
     "text": [
      "Highest Ranked songs:\n",
      "['Consequences', 32.99142322520796]\n",
      "[\"when the party's over\", 46.853291003954254]\n",
      "['lovely (with Khalid)', 38.91434720798206]\n",
      "['ghostin', 39.4134835111444]\n",
      "['Rainbow', 30.14281159850726]\n",
      "['xanny', 37.12653199338739]\n",
      "['my strange addiction', 30.079054001621266]\n",
      "['listen before i go', 52.310671693347885]\n",
      "Lowest Ranked songs:\n",
      "['thank u, next', 0.3226207171371448]\n",
      "['Love Lies (with Normani)', 1.0282871048897735]\n",
      "['TAlk tO Me (with Rich The Kid feat. Lil Wayne) - Remix', 1.1305163342543592]\n",
      "['Armed And Dangerous', 1.6740012025278141]\n",
      "['Flaws And Sins', 0.5797429740667686]\n",
      "['Earth', 1.5576989897617775]\n"
     ]
    }
   ],
   "source": [
    "popularsongarray = [] #This array lists out the songs along with a ratio of how different they are to top characterisitics\n",
    "t = []\n",
    "titles = songs2019titles[\"Track Name\"].tolist()\n",
    "for x in range(len(songsums)):\n",
    "    t = [titles[x],songsums[x]]\n",
    "    popularsongarray.append(t)\n",
    "    \n",
    "print('Highest Ranked songs:')\n",
    "for x in popularsongarray:\n",
    "    if x[1]>30:\n",
    "        print(x)\n",
    "print('Lowest Ranked songs:')\n",
    "for x in popularsongarray:\n",
    "    if x[1]<2:\n",
    "        print(x)        \n"
   ]
  },
  {
   "cell_type": "code",
   "execution_count": null,
   "metadata": {},
   "outputs": [],
   "source": [
    "# (x1 - x2) - 0 / sqrt( (sd2/n1)+(sd2/n2))\n",
    "import math\n",
    "\n",
    "# Hypothesis Testing:\n",
    "# 1: Null Hypothesis: There is no correlation between danciblity consistency between the years 2018 and 2019\n",
    "# 2: Alternative Hypothesis: Danciblity remains consistent in prediction of song popularity between 2018 and 2019\n",
    "# 3: Significence Level: Alpha = 0.05\n",
    "# 4: \n",
    "\n",
    "print('Avg for Dancibility: ', danceability2018mean)\n",
    "print('SongSumAvg: ', songsumsavg)\n",
    "zvalue = ( danceability2018mean - songsumsavg) - 0 / math.sqrt ( (danceability2018var/100) + (songsumsvar/228) ) \n",
    "print('Z-value for Dancibility: ', zvalue)\n",
    "\n",
    "# 5: Using the benchmark 1.65 as the 0.05 signifcienc value since that is larger\n",
    "#     0.258 > 0.05\n",
    "# 6: We fail to accept the null in favor of the alternative hypothesis\n",
    "    \n",
    "# Hypothesis Testing 2 :\n",
    "# 1: Null Hypothesis: There is no correlation between Energy consistency between the years 2018 and 2019\n",
    "# 2: Alternative Hypothesis: Energy remains consistent in prediction of song popularity between 2018 and 2019\n",
    "# 3: Significence Level: Alpha = 0.05\n",
    "# 4: \n",
    "\n",
    "print('Avg for Energy: ', energy2018mean)\n",
    "print('SongSumAvg: ', songsumsavg)\n",
    "zvalue = ( energy2018mean - songsumsavg) - 0 / math.sqrt ( (energy2018var/100) + (songsumsvar/228) ) \n",
    "print('Z-value for Energy: ', zvalue)\n",
    "\n",
    "# 5: Using the benchmark 1.65 as the 0.05 signifcienc value since that is larger\n",
    "#     0.7031 > 0.05\n",
    "# 6: We fail to accept the null in favor of the alternative hypothesis\n",
    "    \n",
    " # Hypothesis Testing 3 :\n",
    "# 1: Null Hypothesis: There is no correlation between Loudness consistency between the years 2018 and 2019\n",
    "# 2: Alternative Hypothesis: Loudness remains consistent in prediction of song popularity between 2018 and 2019\n",
    "# 3: Significence Level: Alpha = 0.05\n",
    "# 4: \n",
    "\n",
    "print('Avg for Loudness: ', loudness2018mean)\n",
    "print('SongSumAvg: ', songsumsavg)\n",
    "zvalue = ( loudness2018mean - songsumsavg)/10 - 0 / math.sqrt ( (loudness2018var/100) + (songsumsvar/228) ) \n",
    "print('Z-value for Loudness: ', zvalue)\n",
    "\n",
    "# 5: Using the benchmark 1.65 as the 0.05 signifcienc value since that is larger\n",
    "#     0.7039 > 0.05\n",
    "# 6: We fail to accept the null in favor of the alternative hypothesis\n",
    " "
   ]
  },
  {
   "cell_type": "code",
   "execution_count": null,
   "metadata": {},
   "outputs": [],
   "source": [
    "##if a relationship appears significant\n",
    "##Reducing insignificent data\n",
    "## What variables correlate\n",
    "## We think these variables might have a correlation, are we right?\n",
    "\n",
    "# once we correlate 2 variables we will see if there is a correlations with the artists\n",
    "# we will track furthers songs (2019) that this artist has \n"
   ]
  },
  {
   "cell_type": "markdown",
   "metadata": {},
   "source": [
    "Evaluation of significance. Use hypothesis tests, simulation, randomization,\n",
    "or any other technique we have used to compare the patterns you observe in\n",
    "the dataset to simple randomness."
   ]
  },
  {
   "cell_type": "markdown",
   "metadata": {},
   "source": [
    "CLUSTERING RELATED TO ARTIST:"
   ]
  },
  {
   "cell_type": "code",
   "execution_count": null,
   "metadata": {},
   "outputs": [],
   "source": [
    "# To gage what makes a song popular, we are starting with \"artist\" as. After all, name recognition is important.\n",
    "# The graph below shows how many top songs belonged to each artist whose tracks made it into the top 100\n",
    "\n",
    "# We made a list of all the artists whose songs made it into the top 100 in order to determine how many artists we\n",
    "# need to keep track of\n",
    "artists_to_track = []\n",
    "for i in songs.artists:\n",
    "    if i not in artists_to_track:\n",
    "        artists_to_track.append(i)\n",
    "print(artists_to_track)\n",
    "print()\n",
    "print(\"There are \" + str(len(artists_to_track)) + \" artists whose tracks made it into the top 100\")\n",
    "print()\n",
    "\n",
    "\n",
    "# After compiling a list of every artist, we created a dictionary.\n",
    "# It has the name of the artists as keys and the number of their songs in the top 100 as the value\n",
    "artist_count = dict()\n",
    "for artist in songs.artists:\n",
    "    artist_count[artist] = artist_count.get(artist, 0) + 1\n",
    "    \n",
    "for artist in artist_count:\n",
    "    artist + \": \" + str(artist_count[artist])\n",
    "\n",
    "print(artist_count)"
   ]
  },
  {
   "cell_type": "code",
   "execution_count": null,
   "metadata": {},
   "outputs": [],
   "source": [
    "# We made a bar graph to show how many songs each artist had in the top 100. This bar graph turned out very crowded\n",
    "print(artist_count)\n",
    "pyplot.bar(range(len(artist_count)), list(artist_count.values()))\n",
    "pyplot.xticks(range(len(artist_count)), list(artist_count.keys()))\n",
    "pyplot.show()\n",
    "\n",
    "# Since there were so many artists who only had one song in the top 100, we made a new, more directed dictionary that\n",
    "# only includes artists who had at least 2 songs in the top 100. This makes it easier to visualize the data\n",
    "artist_count2 = artist_count\n",
    "for j in list(artist_count2):\n",
    "    if artist_count[j] == 1:\n",
    "        artist_count2.pop(j)\n",
    "print(artist_count2)\n",
    "\n",
    "pyplot.bar(range(len(artist_count2)), list(artist_count2.values()))\n",
    "pyplot.xticks(range(len(artist_count2)), list(artist_count2.keys()))\n",
    "pyplot.show()\n",
    "\n",
    "# This was still a bit crowded so we made a dictionary with artists who had at least 3 songs in the top 100.\n",
    "# This narrowed it down to only 5 artists \n",
    "artist_count3 = artist_count2\n",
    "for j in list(artist_count3):\n",
    "    if artist_count[j] == 2:\n",
    "        artist_count3.pop(j)\n",
    "print(artist_count3)\n",
    "\n",
    "pyplot.bar(range(len(artist_count3)), list(artist_count3.values()))\n",
    "pyplot.xticks(range(len(artist_count3)), list(artist_count3.keys()))\n",
    "pyplot.show()"
   ]
  },
  {
   "cell_type": "code",
   "execution_count": 13,
   "metadata": {},
   "outputs": [
    {
     "name": "stdout",
     "output_type": "stream",
     "text": [
      "[1, 2, 3, 4, 5, 6, 7, 8, 9, 10, 11, 12, 13, 14, 15, 16, 17, 18, 19, 20, 21, 22, 23, 24, 25, 26, 27, 28, 29, 30, 31, 32, 33, 34, 35, 36, 37, 38, 39, 40, 41, 42, 43, 44, 45, 46, 47, 48, 49, 50, 51, 52, 53, 54, 55, 56, 57, 58, 59, 60, 61, 62, 63, 64, 65, 66, 67, 68, 69, 70, 71, 72, 73, 74, 75, 76, 77, 78, 79, 80, 81, 82, 83, 84, 85, 86, 87, 88, 89, 90, 91, 92, 93, 94, 95, 96, 97, 98, 99, 100]\n"
     ]
    }
   ],
   "source": [
    "popularity = [] #Generating song popularity by number\n",
    "counter = 0\n",
    "c = []\n",
    "for x in songs2018.name:\n",
    "    counter = counter +1\n",
    "    b = [x,counter]\n",
    "    c.append(counter)\n",
    "    popularity.append(b)\n",
    "print(c)"
   ]
  },
  {
   "cell_type": "code",
   "execution_count": 17,
   "metadata": {
    "scrolled": false
   },
   "outputs": [
    {
     "name": "stdout",
     "output_type": "stream",
     "text": [
      "Popularity and Danceability\n",
      "Slope:  -21.000625814768668\n"
     ]
    },
    {
     "data": {
      "image/png": "[encoded data removed]",
      "text/plain": [
       "<Figure size 432x288 with 1 Axes>"
      ]
     },
     "metadata": {},
     "output_type": "display_data"
    },
    {
     "name": "stdout",
     "output_type": "stream",
     "text": [
      "Popularity and Energy\n",
      "Slope:  -12.390781845806892\n"
     ]
    },
    {
     "data": {
      "image/png": "[encoded data removed]",
      "text/plain": [
       "<Figure size 432x288 with 1 Axes>"
      ]
     },
     "metadata": {},
     "output_type": "display_data"
    },
    {
     "name": "stdout",
     "output_type": "stream",
     "text": [
      "Popularity and Speechiness\n",
      "Slope:  15.377840295083265\n"
     ]
    },
    {
     "data": {
      "image/png": "[encoded data removed]",
      "text/plain": [
       "<Figure size 432x288 with 1 Axes>"
      ]
     },
     "metadata": {},
     "output_type": "display_data"
    },
    {
     "name": "stdout",
     "output_type": "stream",
     "text": [
      "Popularity and Acousticness\n",
      "Slope:  8.587503402648883\n"
     ]
    },
    {
     "data": {
      "image/png": "[encoded data removed]",
      "text/plain": [
       "<Figure size 432x288 with 1 Axes>"
      ]
     },
     "metadata": {},
     "output_type": "display_data"
    },
    {
     "name": "stdout",
     "output_type": "stream",
     "text": [
      "Popularity and Instrumentalness\n",
      "Slope:  -59.81509367572902\n"
     ]
    },
    {
     "data": {
      "image/png": "[encoded data removed]",
      "text/plain": [
       "<Figure size 432x288 with 1 Axes>"
      ]
     },
     "metadata": {},
     "output_type": "display_data"
    },
    {
     "name": "stdout",
     "output_type": "stream",
     "text": [
      "Popularity and Liveness\n",
      "Slope:  -65.91777593033044\n"
     ]
    },
    {
     "data": {
      "image/png": "[encoded data removed]",
      "text/plain": [
       "<Figure size 432x288 with 1 Axes>"
      ]
     },
     "metadata": {},
     "output_type": "display_data"
    },
    {
     "name": "stdout",
     "output_type": "stream",
     "text": [
      "Popularity and Valence\n",
      "Slope:  1.77118988876226\n"
     ]
    },
    {
     "data": {
      "image/png": "[encoded data removed]",
      "text/plain": [
       "<Figure size 432x288 with 1 Axes>"
      ]
     },
     "metadata": {},
     "output_type": "display_data"
    },
    {
     "name": "stdout",
     "output_type": "stream",
     "text": [
      "Popularity and Tempo\n",
      "Slope:  0.1801136831348391\n"
     ]
    },
    {
     "data": {
      "image/png": "[encoded data removed]",
      "text/plain": [
       "<Figure size 432x288 with 1 Axes>"
      ]
     },
     "metadata": {},
     "output_type": "display_data"
    },
    {
     "name": "stdout",
     "output_type": "stream",
     "text": [
      "Popularity and Duration_ms\n",
      "Slope:  -5.254963065476527e-05\n"
     ]
    },
    {
     "data": {
      "image/png": "[encoded data removed]",
      "text/plain": [
       "<Figure size 432x288 with 1 Axes>"
      ]
     },
     "metadata": {},
     "output_type": "display_data"
    }
   ],
   "source": [
    "# After creating these bar graphs, we created scatter plots to see if there is any correlation between popularity (so\n",
    "# the amount times an artist appeared in the top 100) and other variables Spotify measures\n",
    "\n",
    "\n",
    "\n",
    "# Popularity and Danceability\n",
    "print('Popularity and Danceability')\n",
    "pyplot.scatter(songs2018.danceability, c)\n",
    "pyplot.title('Popularity and Danceability')\n",
    "pyplot.xlabel('Danceability')\n",
    "pyplot.ylabel('Popularity')\n",
    "cov_matrixDanceability = numpy.cov(songs2018.danceability, c)\n",
    "slope = cov_matrixDanceability[1,0] / cov_matrixDanceability[0,0]\n",
    "print('Slope: ',slope)\n",
    "pyplot.show()\n",
    "\n",
    "# Popularity and Energy\n",
    "print('Popularity and Energy')\n",
    "cov_matrixenergy = numpy.cov(songs2018.energy, c)\n",
    "slope = cov_matrixenergy[1,0] / cov_matrixenergy[0,0]\n",
    "print('Slope: ',slope)\n",
    "pyplot.scatter(songs2018.energy, c)\n",
    "pyplot.title('Popularity and Energy')\n",
    "pyplot.xlabel('Energy')\n",
    "pyplot.ylabel('Popularity')\n",
    "pyplot.show()\n",
    "\n",
    "# Popularity and Speechiness\n",
    "print('Popularity and Speechiness')\n",
    "cov_matrixSpeechiness = numpy.cov(songs2018.speechiness, c)\n",
    "slope = cov_matrixSpeechiness[1,0] / cov_matrixSpeechiness[0,0]\n",
    "print('Slope: ',slope)\n",
    "pyplot.scatter(songs2018.speechiness, c)\n",
    "pyplot.title('Popularity and Speechiness')\n",
    "pyplot.xlabel('Speechiness')\n",
    "pyplot.ylabel('Popularity')\n",
    "pyplot.show()\n",
    "\n",
    "# Popularity and Acousticness\n",
    "print('Popularity and Acousticness')\n",
    "cov_matrixAcousticness = numpy.cov(songs2018.acousticness, c)\n",
    "slope = cov_matrixAcousticness[1,0] / cov_matrixAcousticness[0,0]\n",
    "print('Slope: ',slope)\n",
    "pyplot.scatter(songs2018.acousticness, c)\n",
    "pyplot.title('Popularity and Acousticness')\n",
    "pyplot.xlabel('Acousticness')\n",
    "pyplot.ylabel('Popularity')\n",
    "pyplot.show()\n",
    "\n",
    "# Popularity and Instrumentalness\n",
    "print('Popularity and Instrumentalness')\n",
    "cov_matrixInstrumentalness = numpy.cov(songs2018.instrumentalness, c)\n",
    "slope = cov_matrixInstrumentalness[1,0] / cov_matrixInstrumentalness[0,0]\n",
    "print('Slope: ',slope)\n",
    "pyplot.scatter(songs2018.instrumentalness, c)\n",
    "pyplot.title('Popularity and Instrumentalness')\n",
    "pyplot.xlabel('Instrumentalness')\n",
    "pyplot.ylabel('Popularity')\n",
    "pyplot.show()\n",
    "\n",
    "# Popularity and Liveness\n",
    "print('Popularity and Liveness')\n",
    "cov_matrixLiveness = numpy.cov(songs2018.liveness, c)\n",
    "slope = cov_matrixLiveness[1,0] / cov_matrixLiveness[0,0]\n",
    "print('Slope: ',slope)\n",
    "pyplot.scatter(songs2018.liveness, c)\n",
    "pyplot.title('Popularity and Liveness')\n",
    "pyplot.xlabel('Liveness')\n",
    "pyplot.ylabel('Popularity')\n",
    "pyplot.show()\n",
    "\n",
    "# Popularity and Valence\n",
    "print('Popularity and Valence')\n",
    "cov_matrixValence = numpy.cov(songs2018.valence, c)\n",
    "slope = cov_matrixValence[1,0] / cov_matrixValence[0,0]\n",
    "print('Slope: ',slope)\n",
    "pyplot.scatter(songs2018.valence, c)\n",
    "pyplot.title('Popularity and Valence')\n",
    "pyplot.xlabel('Valence')\n",
    "pyplot.ylabel('Popularity')\n",
    "pyplot.show()\n",
    "\n",
    "# Popularity and Tempo\n",
    "print('Popularity and Tempo')\n",
    "cov_matrixTempo = numpy.cov(songs2018.tempo, c)\n",
    "slope = cov_matrixTempo[1,0] / cov_matrixTempo[0,0]\n",
    "print('Slope: ',slope)\n",
    "pyplot.scatter(songs2018.tempo, c)\n",
    "pyplot.title('Popularity and Tempo')\n",
    "pyplot.xlabel('Tempo')\n",
    "pyplot.ylabel('Popularity')\n",
    "pyplot.show()\n",
    "\n",
    "# Popularity and Duration_ms\n",
    "print('Popularity and Duration_ms')\n",
    "cov_matrixDuration_ms = numpy.cov(songs2018.duration_ms, c)\n",
    "slope = cov_matrixDuration_ms[1,0] / cov_matrixDuration_ms[0,0]\n",
    "print('Slope: ',slope)\n",
    "pyplot.scatter(songs2018.duration_ms, c)\n",
    "pyplot.title('Popularity and Duration_ms')\n",
    "pyplot.xlabel('Duration_ms')\n",
    "pyplot.ylabel('Popularity')\n",
    "pyplot.show()\n"
   ]
  },
  {
   "cell_type": "code",
   "execution_count": 15,
   "metadata": {},
   "outputs": [
    {
     "name": "stdout",
     "output_type": "stream",
     "text": [
      "Predictors:  Index(['id', 'name', 'artists', 'danceability', 'energy', 'key', 'loudness',\n",
      "       'mode', 'speechiness', 'acousticness', 'instrumentalness', 'liveness',\n",
      "       'valence', 'tempo', 'duration_ms', 'time_signature'],\n",
      "      dtype='object')\n",
      "Combined Slope for all predictors [-21.23528792   9.11597115  -1.09695394  -2.97267611]\n"
     ]
    }
   ],
   "source": [
    "from sklearn.linear_model import LinearRegression\n",
    "\n",
    "print('Predictors: ',songs2018.columns)\n",
    "predictors = songs2018.columns #Excluding title,name,id as labels\n",
    "predictorsn = [\"danceability\", \"energy\", \"key\", \"loudness\"]\n",
    "\n",
    "model = LinearRegression().fit(songs2018[predictorsn],\n",
    "                                  c) \n",
    "print('Combined Slope for all predictors', model.coef_)"
   ]
  }
 ],
 "metadata": {
  "kernelspec": {
   "display_name": "Python 3",
   "language": "python",
   "name": "python3"
  },
  "language_info": {
   "codemirror_mode": {
    "name": "ipython",
    "version": 3
   },
   "file_extension": ".py",
   "mimetype": "text/x-python",
   "name": "python",
   "nbconvert_exporter": "python",
   "pygments_lexer": "ipython3",
   "version": "3.6.5"
  }
 },
 "nbformat": 4,
 "nbformat_minor": 2
}
