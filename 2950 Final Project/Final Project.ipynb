{
 "cells": [
  {
   "cell_type": "code",
   "execution_count": 3,
   "metadata": {},
   "outputs": [],
   "source": [
    "import networkx\n",
    "import numpy\n",
    "from matplotlib import pyplot\n",
    "import pandas\n",
    "import collections"
   ]
  },
  {
   "cell_type": "code",
   "execution_count": 4,
   "metadata": {},
   "outputs": [
    {
     "ename": "SyntaxError",
     "evalue": "invalid syntax (<ipython-input-4-95de4c86d1e9>, line 1)",
     "output_type": "error",
     "traceback": [
      "\u001b[1;36m  File \u001b[1;32m\"<ipython-input-4-95de4c86d1e9>\"\u001b[1;36m, line \u001b[1;32m1\u001b[0m\n\u001b[1;33m    easy_install spotify\u001b[0m\n\u001b[1;37m                       ^\u001b[0m\n\u001b[1;31mSyntaxError\u001b[0m\u001b[1;31m:\u001b[0m invalid syntax\n"
     ]
    }
   ],
   "source": [
    "easy_install spotify"
   ]
  },
  {
   "cell_type": "markdown",
   "metadata": {},
   "source": [
    "Descriptive statistics. Use summary functions like mean and standard\n",
    "deviation along with visual displays like scatter plots and histograms to\n",
    "describe data."
   ]
  },
  {
   "cell_type": "code",
   "execution_count": 82,
   "metadata": {
    "scrolled": true
   },
   "outputs": [
    {
     "data": {
      "text/html": [
       "<div>\n",
       "<style scoped>\n",
       "    .dataframe tbody tr th:only-of-type {\n",
       "        vertical-align: middle;\n",
       "    }\n",
       "\n",
       "    .dataframe tbody tr th {\n",
       "        vertical-align: top;\n",
       "    }\n",
       "\n",
       "    .dataframe thead th {\n",
       "        text-align: right;\n",
       "    }\n",
       "</style>\n",
       "<table border=\"1\" class=\"dataframe\">\n",
       "  <thead>\n",
       "    <tr style=\"text-align: right;\">\n",
       "      <th></th>\n",
       "      <th>danceability</th>\n",
       "      <th>energy</th>\n",
       "      <th>key</th>\n",
       "      <th>loudness</th>\n",
       "      <th>mode</th>\n",
       "      <th>speechiness</th>\n",
       "      <th>acousticness</th>\n",
       "      <th>instrumentalness</th>\n",
       "      <th>liveness</th>\n",
       "      <th>valence</th>\n",
       "      <th>tempo</th>\n",
       "      <th>duration_ms</th>\n",
       "      <th>time_signature</th>\n",
       "    </tr>\n",
       "  </thead>\n",
       "  <tbody>\n",
       "    <tr>\n",
       "      <th>count</th>\n",
       "      <td>100.00000</td>\n",
       "      <td>100.000000</td>\n",
       "      <td>100.000000</td>\n",
       "      <td>100.000000</td>\n",
       "      <td>100.000000</td>\n",
       "      <td>100.000000</td>\n",
       "      <td>100.000000</td>\n",
       "      <td>100.000000</td>\n",
       "      <td>100.000000</td>\n",
       "      <td>100.000000</td>\n",
       "      <td>100.000000</td>\n",
       "      <td>100.000000</td>\n",
       "      <td>100.00</td>\n",
       "    </tr>\n",
       "    <tr>\n",
       "      <th>mean</th>\n",
       "      <td>0.71646</td>\n",
       "      <td>0.659060</td>\n",
       "      <td>5.330000</td>\n",
       "      <td>-5.677640</td>\n",
       "      <td>0.590000</td>\n",
       "      <td>0.115569</td>\n",
       "      <td>0.195701</td>\n",
       "      <td>0.001584</td>\n",
       "      <td>0.158302</td>\n",
       "      <td>0.484443</td>\n",
       "      <td>119.904180</td>\n",
       "      <td>205206.780000</td>\n",
       "      <td>3.98</td>\n",
       "    </tr>\n",
       "    <tr>\n",
       "      <th>std</th>\n",
       "      <td>0.13107</td>\n",
       "      <td>0.145067</td>\n",
       "      <td>3.676447</td>\n",
       "      <td>1.777577</td>\n",
       "      <td>0.494311</td>\n",
       "      <td>0.104527</td>\n",
       "      <td>0.220946</td>\n",
       "      <td>0.013449</td>\n",
       "      <td>0.111662</td>\n",
       "      <td>0.206145</td>\n",
       "      <td>28.795984</td>\n",
       "      <td>40007.893404</td>\n",
       "      <td>0.20</td>\n",
       "    </tr>\n",
       "    <tr>\n",
       "      <th>min</th>\n",
       "      <td>0.25800</td>\n",
       "      <td>0.296000</td>\n",
       "      <td>0.000000</td>\n",
       "      <td>-10.109000</td>\n",
       "      <td>0.000000</td>\n",
       "      <td>0.023200</td>\n",
       "      <td>0.000282</td>\n",
       "      <td>0.000000</td>\n",
       "      <td>0.021500</td>\n",
       "      <td>0.079600</td>\n",
       "      <td>64.934000</td>\n",
       "      <td>95467.000000</td>\n",
       "      <td>3.00</td>\n",
       "    </tr>\n",
       "    <tr>\n",
       "      <th>25%</th>\n",
       "      <td>0.63550</td>\n",
       "      <td>0.562000</td>\n",
       "      <td>1.750000</td>\n",
       "      <td>-6.650500</td>\n",
       "      <td>0.000000</td>\n",
       "      <td>0.045350</td>\n",
       "      <td>0.040225</td>\n",
       "      <td>0.000000</td>\n",
       "      <td>0.094675</td>\n",
       "      <td>0.341000</td>\n",
       "      <td>95.730750</td>\n",
       "      <td>184680.000000</td>\n",
       "      <td>4.00</td>\n",
       "    </tr>\n",
       "    <tr>\n",
       "      <th>50%</th>\n",
       "      <td>0.73300</td>\n",
       "      <td>0.678000</td>\n",
       "      <td>5.000000</td>\n",
       "      <td>-5.566500</td>\n",
       "      <td>1.000000</td>\n",
       "      <td>0.074950</td>\n",
       "      <td>0.109000</td>\n",
       "      <td>0.000000</td>\n",
       "      <td>0.118500</td>\n",
       "      <td>0.470500</td>\n",
       "      <td>120.116000</td>\n",
       "      <td>205047.500000</td>\n",
       "      <td>4.00</td>\n",
       "    </tr>\n",
       "    <tr>\n",
       "      <th>75%</th>\n",
       "      <td>0.79825</td>\n",
       "      <td>0.772250</td>\n",
       "      <td>8.250000</td>\n",
       "      <td>-4.363750</td>\n",
       "      <td>1.000000</td>\n",
       "      <td>0.137000</td>\n",
       "      <td>0.247750</td>\n",
       "      <td>0.000031</td>\n",
       "      <td>0.170750</td>\n",
       "      <td>0.641500</td>\n",
       "      <td>140.022750</td>\n",
       "      <td>221493.250000</td>\n",
       "      <td>4.00</td>\n",
       "    </tr>\n",
       "    <tr>\n",
       "      <th>max</th>\n",
       "      <td>0.96400</td>\n",
       "      <td>0.909000</td>\n",
       "      <td>11.000000</td>\n",
       "      <td>-2.384000</td>\n",
       "      <td>1.000000</td>\n",
       "      <td>0.530000</td>\n",
       "      <td>0.934000</td>\n",
       "      <td>0.134000</td>\n",
       "      <td>0.636000</td>\n",
       "      <td>0.931000</td>\n",
       "      <td>198.075000</td>\n",
       "      <td>417920.000000</td>\n",
       "      <td>5.00</td>\n",
       "    </tr>\n",
       "  </tbody>\n",
       "</table>\n",
       "</div>"
      ],
      "text/plain": [
       "       danceability      energy         key    loudness        mode  \\\n",
       "count     100.00000  100.000000  100.000000  100.000000  100.000000   \n",
       "mean        0.71646    0.659060    5.330000   -5.677640    0.590000   \n",
       "std         0.13107    0.145067    3.676447    1.777577    0.494311   \n",
       "min         0.25800    0.296000    0.000000  -10.109000    0.000000   \n",
       "25%         0.63550    0.562000    1.750000   -6.650500    0.000000   \n",
       "50%         0.73300    0.678000    5.000000   -5.566500    1.000000   \n",
       "75%         0.79825    0.772250    8.250000   -4.363750    1.000000   \n",
       "max         0.96400    0.909000   11.000000   -2.384000    1.000000   \n",
       "\n",
       "       speechiness  acousticness  instrumentalness    liveness     valence  \\\n",
       "count   100.000000    100.000000        100.000000  100.000000  100.000000   \n",
       "mean      0.115569      0.195701          0.001584    0.158302    0.484443   \n",
       "std       0.104527      0.220946          0.013449    0.111662    0.206145   \n",
       "min       0.023200      0.000282          0.000000    0.021500    0.079600   \n",
       "25%       0.045350      0.040225          0.000000    0.094675    0.341000   \n",
       "50%       0.074950      0.109000          0.000000    0.118500    0.470500   \n",
       "75%       0.137000      0.247750          0.000031    0.170750    0.641500   \n",
       "max       0.530000      0.934000          0.134000    0.636000    0.931000   \n",
       "\n",
       "            tempo    duration_ms  time_signature  \n",
       "count  100.000000     100.000000          100.00  \n",
       "mean   119.904180  205206.780000            3.98  \n",
       "std     28.795984   40007.893404            0.20  \n",
       "min     64.934000   95467.000000            3.00  \n",
       "25%     95.730750  184680.000000            4.00  \n",
       "50%    120.116000  205047.500000            4.00  \n",
       "75%    140.022750  221493.250000            4.00  \n",
       "max    198.075000  417920.000000            5.00  "
      ]
     },
     "execution_count": 82,
     "metadata": {},
     "output_type": "execute_result"
    }
   ],
   "source": [
    "songs = pandas.read_csv(\"top2018.csv\")\n",
    "songs.describe()\n"
   ]
  },
  {
   "cell_type": "code",
   "execution_count": 83,
   "metadata": {
    "scrolled": true
   },
   "outputs": [
    {
     "data": {
      "text/html": [
       "<div>\n",
       "<style scoped>\n",
       "    .dataframe tbody tr th:only-of-type {\n",
       "        vertical-align: middle;\n",
       "    }\n",
       "\n",
       "    .dataframe tbody tr th {\n",
       "        vertical-align: top;\n",
       "    }\n",
       "\n",
       "    .dataframe thead th {\n",
       "        text-align: right;\n",
       "    }\n",
       "</style>\n",
       "<table border=\"1\" class=\"dataframe\">\n",
       "  <thead>\n",
       "    <tr style=\"text-align: right;\">\n",
       "      <th></th>\n",
       "      <th>id</th>\n",
       "      <th>name</th>\n",
       "      <th>artists</th>\n",
       "      <th>danceability</th>\n",
       "      <th>energy</th>\n",
       "      <th>key</th>\n",
       "      <th>loudness</th>\n",
       "      <th>mode</th>\n",
       "      <th>speechiness</th>\n",
       "      <th>acousticness</th>\n",
       "      <th>instrumentalness</th>\n",
       "      <th>liveness</th>\n",
       "      <th>valence</th>\n",
       "      <th>tempo</th>\n",
       "      <th>duration_ms</th>\n",
       "      <th>time_signature</th>\n",
       "    </tr>\n",
       "  </thead>\n",
       "  <tbody>\n",
       "    <tr>\n",
       "      <th>0</th>\n",
       "      <td>6DCZcSspjsKoFjzjrWoCd</td>\n",
       "      <td>God's Plan</td>\n",
       "      <td>Drake</td>\n",
       "      <td>0.754</td>\n",
       "      <td>0.449</td>\n",
       "      <td>7</td>\n",
       "      <td>-9.211</td>\n",
       "      <td>1</td>\n",
       "      <td>0.1090</td>\n",
       "      <td>0.0332</td>\n",
       "      <td>0.000083</td>\n",
       "      <td>0.552</td>\n",
       "      <td>0.357</td>\n",
       "      <td>77.169</td>\n",
       "      <td>198973</td>\n",
       "      <td>4</td>\n",
       "    </tr>\n",
       "    <tr>\n",
       "      <th>1</th>\n",
       "      <td>3ee8Jmje8o58CHK66QrVC</td>\n",
       "      <td>SAD!</td>\n",
       "      <td>XXXTENTACION</td>\n",
       "      <td>0.740</td>\n",
       "      <td>0.613</td>\n",
       "      <td>8</td>\n",
       "      <td>-4.880</td>\n",
       "      <td>1</td>\n",
       "      <td>0.1450</td>\n",
       "      <td>0.2580</td>\n",
       "      <td>0.003720</td>\n",
       "      <td>0.123</td>\n",
       "      <td>0.473</td>\n",
       "      <td>75.023</td>\n",
       "      <td>166606</td>\n",
       "      <td>4</td>\n",
       "    </tr>\n",
       "    <tr>\n",
       "      <th>2</th>\n",
       "      <td>0e7ipj03S05BNilyu5bRz</td>\n",
       "      <td>rockstar (feat. 21 Savage)</td>\n",
       "      <td>Post Malone</td>\n",
       "      <td>0.587</td>\n",
       "      <td>0.535</td>\n",
       "      <td>5</td>\n",
       "      <td>-6.090</td>\n",
       "      <td>0</td>\n",
       "      <td>0.0898</td>\n",
       "      <td>0.1170</td>\n",
       "      <td>0.000066</td>\n",
       "      <td>0.131</td>\n",
       "      <td>0.140</td>\n",
       "      <td>159.847</td>\n",
       "      <td>218147</td>\n",
       "      <td>4</td>\n",
       "    </tr>\n",
       "    <tr>\n",
       "      <th>3</th>\n",
       "      <td>3swc6WTsr7rl9DqQKQA55</td>\n",
       "      <td>Psycho (feat. Ty Dolla $ign)</td>\n",
       "      <td>Post Malone</td>\n",
       "      <td>0.739</td>\n",
       "      <td>0.559</td>\n",
       "      <td>8</td>\n",
       "      <td>-8.011</td>\n",
       "      <td>1</td>\n",
       "      <td>0.1170</td>\n",
       "      <td>0.5800</td>\n",
       "      <td>0.000000</td>\n",
       "      <td>0.112</td>\n",
       "      <td>0.439</td>\n",
       "      <td>140.124</td>\n",
       "      <td>221440</td>\n",
       "      <td>4</td>\n",
       "    </tr>\n",
       "    <tr>\n",
       "      <th>4</th>\n",
       "      <td>2G7V7zsVDxg1yRsu7Ew9R</td>\n",
       "      <td>In My Feelings</td>\n",
       "      <td>Drake</td>\n",
       "      <td>0.835</td>\n",
       "      <td>0.626</td>\n",
       "      <td>1</td>\n",
       "      <td>-5.833</td>\n",
       "      <td>1</td>\n",
       "      <td>0.1250</td>\n",
       "      <td>0.0589</td>\n",
       "      <td>0.000060</td>\n",
       "      <td>0.396</td>\n",
       "      <td>0.350</td>\n",
       "      <td>91.030</td>\n",
       "      <td>217925</td>\n",
       "      <td>4</td>\n",
       "    </tr>\n",
       "  </tbody>\n",
       "</table>\n",
       "</div>"
      ],
      "text/plain": [
       "                      id                          name       artists  \\\n",
       "0  6DCZcSspjsKoFjzjrWoCd                    God's Plan         Drake   \n",
       "1  3ee8Jmje8o58CHK66QrVC                          SAD!  XXXTENTACION   \n",
       "2  0e7ipj03S05BNilyu5bRz    rockstar (feat. 21 Savage)   Post Malone   \n",
       "3  3swc6WTsr7rl9DqQKQA55  Psycho (feat. Ty Dolla $ign)   Post Malone   \n",
       "4  2G7V7zsVDxg1yRsu7Ew9R                In My Feelings         Drake   \n",
       "\n",
       "   danceability  energy  key  loudness  mode  speechiness  acousticness  \\\n",
       "0         0.754   0.449    7    -9.211     1       0.1090        0.0332   \n",
       "1         0.740   0.613    8    -4.880     1       0.1450        0.2580   \n",
       "2         0.587   0.535    5    -6.090     0       0.0898        0.1170   \n",
       "3         0.739   0.559    8    -8.011     1       0.1170        0.5800   \n",
       "4         0.835   0.626    1    -5.833     1       0.1250        0.0589   \n",
       "\n",
       "   instrumentalness  liveness  valence    tempo  duration_ms  time_signature  \n",
       "0          0.000083     0.552    0.357   77.169       198973               4  \n",
       "1          0.003720     0.123    0.473   75.023       166606               4  \n",
       "2          0.000066     0.131    0.140  159.847       218147               4  \n",
       "3          0.000000     0.112    0.439  140.124       221440               4  \n",
       "4          0.000060     0.396    0.350   91.030       217925               4  "
      ]
     },
     "execution_count": 83,
     "metadata": {},
     "output_type": "execute_result"
    }
   ],
   "source": [
    "songs.head()"
   ]
  },
  {
   "cell_type": "code",
   "execution_count": 84,
   "metadata": {},
   "outputs": [
    {
     "data": {
      "text/plain": [
       "0                   Drake\n",
       "1            XXXTENTACION\n",
       "2             Post Malone\n",
       "3             Post Malone\n",
       "4                   Drake\n",
       "5             Post Malone\n",
       "6                 Cardi B\n",
       "7           Calvin Harris\n",
       "8                Dua Lipa\n",
       "9              Marshmello\n",
       "10         Camila Cabello\n",
       "11             Juice WRLD\n",
       "12                  Drake\n",
       "13               Maroon 5\n",
       "14                   Zedd\n",
       "15         Kendrick Lamar\n",
       "16          Ariana Grande\n",
       "17              Nicky Jam\n",
       "18           XXXTENTACION\n",
       "19             BlocBoy JB\n",
       "20             Rudimental\n",
       "21             Nio Garcia\n",
       "22                  Bazzi\n",
       "23    5 Seconds of Summer\n",
       "24               Dua Lipa\n",
       "25             Ed Sheeran\n",
       "26                 Khalid\n",
       "27             Bebe Rexha\n",
       "28           XXXTENTACION\n",
       "29             Ed Sheeran\n",
       "             ...         \n",
       "70       Hailee Steinfeld\n",
       "71      Portugal. The Man\n",
       "72             The Weeknd\n",
       "73                  Migos\n",
       "74                 G-Eazy\n",
       "75            Post Malone\n",
       "76            Post Malone\n",
       "77            Sofia Reyes\n",
       "78          Natti Natasha\n",
       "79           Rich The Kid\n",
       "80          Billie Eilish\n",
       "81                  Migos\n",
       "82         Kendrick Lamar\n",
       "83                  Ozuna\n",
       "84             Ed Sheeran\n",
       "85                 Maluma\n",
       "86                 Khalid\n",
       "87                  Ozuna\n",
       "88                 Anitta\n",
       "89                Wolfine\n",
       "90          Calvin Harris\n",
       "91               Lil Baby\n",
       "92                   Lauv\n",
       "93           Keala Settle\n",
       "94           XXXTENTACION\n",
       "95              Zac Efron\n",
       "96           Clean Bandit\n",
       "97              DJ Khaled\n",
       "98                   ZAYN\n",
       "99             Dean Lewis\n",
       "Name: artists, Length: 100, dtype: object"
      ]
     },
     "execution_count": 84,
     "metadata": {},
     "output_type": "execute_result"
    }
   ],
   "source": [
    "#data column\n",
    "songs.artists"
   ]
  },
  {
   "cell_type": "code",
   "execution_count": 85,
   "metadata": {
    "scrolled": true
   },
   "outputs": [
    {
     "data": {
      "image/png": "[encoded data removed]",
      "text/plain": [
       "<Figure size 432x288 with 1 Axes>"
      ]
     },
     "metadata": {
      "needs_background": "light"
     },
     "output_type": "display_data"
    }
   ],
   "source": [
    "##Search for any meaninful relationships\n",
    "\n",
    "pyplot.scatter(songs.tempo, songs.loudness)\n",
    "pyplot.show()"
   ]
  },
  {
   "cell_type": "code",
   "execution_count": 86,
   "metadata": {},
   "outputs": [],
   "source": [
    "##if a relationship appears significant\n",
    "\n"
   ]
  },
  {
   "cell_type": "code",
   "execution_count": 87,
   "metadata": {},
   "outputs": [],
   "source": [
    "##Reducing insignificent data\n"
   ]
  },
  {
   "cell_type": "code",
   "execution_count": 88,
   "metadata": {},
   "outputs": [],
   "source": [
    "## What variables correlate\n",
    "## We think these variables might have a correlation, are we right?\n",
    "\n",
    "# once we correlate 2 variables we will see if there is a correlations with the artists\n",
    "# we will track furthers songs (2019) that this artist has "
   ]
  },
  {
   "cell_type": "markdown",
   "metadata": {},
   "source": [
    "Models showing patterns or relationships between variables. This could be a\n",
    "regression or clustering, or something else that measures some property of\n",
    "the dataset."
   ]
  },
  {
   "cell_type": "code",
   "execution_count": null,
   "metadata": {},
   "outputs": [],
   "source": []
  },
  {
   "cell_type": "markdown",
   "metadata": {},
   "source": [
    "Evaluation of significance. Use hypothesis tests, simulation, randomization,\n",
    "or any other technique we have used to compare the patterns you observe in\n",
    "the dataset to simple randomness."
   ]
  },
  {
   "cell_type": "markdown",
   "metadata": {},
   "source": [
    "CLUSTERING RELATED TO ARTIST:"
   ]
  },
  {
   "cell_type": "code",
   "execution_count": 202,
   "metadata": {},
   "outputs": [
    {
     "name": "stdout",
     "output_type": "stream",
     "text": [
      "['Drake', 'XXXTENTACION', 'Post Malone', 'Cardi B', 'Calvin Harris', 'Dua Lipa', 'Marshmello', 'Camila Cabello', 'Juice WRLD', 'Maroon 5', 'Zedd', 'Kendrick Lamar', 'Ariana Grande', 'Nicky Jam', 'BlocBoy JB', 'Rudimental', 'Nio Garcia', 'Bazzi', '5 Seconds of Summer', 'Ed Sheeran', 'Khalid', 'Bebe Rexha', 'Tyga', 'Clean Bandit', 'Dennis Lloyd', 'Luis Fonsi', 'benny blanco', 'Selena Gomez', 'Dynoro', 'Eminem', 'Daddy Yankee', 'Travis Scott', 'Imagine Dragons', 'Reik', 'Ti?sto', 'Bruno Mars', 'NF', 'The Weeknd', 'Offset', 'Sam Smith', 'Lil Dicky', '6ix9ine', 'Jonas Blue', 'Loud Luxury', 'Lil Uzi Vert', 'Becky G', 'Anne-Marie', 'Shawn Mendes', 'Piso 21', 'David Guetta', 'DJ Snake', 'Hailee Steinfeld', 'Portugal. The Man', 'Migos', 'G-Eazy', 'Sofia Reyes', 'Natti Natasha', 'Rich The Kid', 'Billie Eilish', 'Ozuna', 'Maluma', 'Anitta', 'Wolfine', 'Lil Baby', 'Lauv', 'Keala Settle', 'Zac Efron', 'DJ Khaled', 'ZAYN', 'Dean Lewis']\n",
      "\n",
      "There are 70 artists whose tracks made it into the top 100\n",
      "\n",
      "{'Drake': 4, 'XXXTENTACION': 6, 'Post Malone': 6, 'Cardi B': 1, 'Calvin Harris': 2, 'Dua Lipa': 2, 'Marshmello': 3, 'Camila Cabello': 2, 'Juice WRLD': 1, 'Maroon 5': 2, 'Zedd': 1, 'Kendrick Lamar': 2, 'Ariana Grande': 2, 'Nicky Jam': 1, 'BlocBoy JB': 1, 'Rudimental': 1, 'Nio Garcia': 1, 'Bazzi': 1, '5 Seconds of Summer': 1, 'Ed Sheeran': 3, 'Khalid': 2, 'Bebe Rexha': 1, 'Tyga': 1, 'Clean Bandit': 2, 'Dennis Lloyd': 1, 'Luis Fonsi': 1, 'benny blanco': 1, 'Selena Gomez': 2, 'Dynoro': 1, 'Eminem': 1, 'Daddy Yankee': 1, 'Travis Scott': 1, 'Imagine Dragons': 2, 'Reik': 1, 'Ti?sto': 1, 'Bruno Mars': 1, 'NF': 1, 'The Weeknd': 2, 'Offset': 1, 'Sam Smith': 1, 'Lil Dicky': 1, '6ix9ine': 1, 'Jonas Blue': 1, 'Loud Luxury': 1, 'Lil Uzi Vert': 1, 'Becky G': 1, 'Anne-Marie': 1, 'Shawn Mendes': 1, 'Piso 21': 1, 'David Guetta': 1, 'DJ Snake': 1, 'Hailee Steinfeld': 1, 'Portugal. The Man': 1, 'Migos': 2, 'G-Eazy': 1, 'Sofia Reyes': 1, 'Natti Natasha': 1, 'Rich The Kid': 1, 'Billie Eilish': 1, 'Ozuna': 2, 'Maluma': 1, 'Anitta': 1, 'Wolfine': 1, 'Lil Baby': 1, 'Lauv': 1, 'Keala Settle': 1, 'Zac Efron': 1, 'DJ Khaled': 1, 'ZAYN': 1, 'Dean Lewis': 1}\n"
     ]
    }
   ],
   "source": [
    "# To gage what makes a song popular, we are starting with \"artist\" as. After all, name recognition is important.\n",
    "# The graph below shows how many top songs belonged to each artist whose tracks made it into the top 100\n",
    "\n",
    "# We made a list of all the artists whose songs made it into the top 100 in order to determine how many artists we\n",
    "# need to keep track of\n",
    "artists_to_track = []\n",
    "for i in songs.artists:\n",
    "    if i not in artists_to_track:\n",
    "        artists_to_track.append(i)\n",
    "print(artists_to_track)\n",
    "print()\n",
    "print(\"There are \" + str(len(artists_to_track)) + \" artists whose tracks made it into the top 100\")\n",
    "print()\n",
    "\n",
    "\n",
    "# After compiling a list of every artist, we created a dictionary.\n",
    "# It has the name of the artists as keys and the number of their songs in the top 100 as the value\n",
    "artist_count = dict()\n",
    "for artist in songs.artists:\n",
    "    artist_count[artist] = artist_count.get(artist, 0) + 1\n",
    "    \n",
    "for artist in artist_count:\n",
    "    artist + \": \" + str(artist_count[artist])\n",
    "\n",
    "print(artist_count)"
   ]
  },
  {
   "cell_type": "code",
   "execution_count": 203,
   "metadata": {},
   "outputs": [
    {
     "name": "stdout",
     "output_type": "stream",
     "text": [
      "{'Drake': 4, 'XXXTENTACION': 6, 'Post Malone': 6, 'Cardi B': 1, 'Calvin Harris': 2, 'Dua Lipa': 2, 'Marshmello': 3, 'Camila Cabello': 2, 'Juice WRLD': 1, 'Maroon 5': 2, 'Zedd': 1, 'Kendrick Lamar': 2, 'Ariana Grande': 2, 'Nicky Jam': 1, 'BlocBoy JB': 1, 'Rudimental': 1, 'Nio Garcia': 1, 'Bazzi': 1, '5 Seconds of Summer': 1, 'Ed Sheeran': 3, 'Khalid': 2, 'Bebe Rexha': 1, 'Tyga': 1, 'Clean Bandit': 2, 'Dennis Lloyd': 1, 'Luis Fonsi': 1, 'benny blanco': 1, 'Selena Gomez': 2, 'Dynoro': 1, 'Eminem': 1, 'Daddy Yankee': 1, 'Travis Scott': 1, 'Imagine Dragons': 2, 'Reik': 1, 'Ti?sto': 1, 'Bruno Mars': 1, 'NF': 1, 'The Weeknd': 2, 'Offset': 1, 'Sam Smith': 1, 'Lil Dicky': 1, '6ix9ine': 1, 'Jonas Blue': 1, 'Loud Luxury': 1, 'Lil Uzi Vert': 1, 'Becky G': 1, 'Anne-Marie': 1, 'Shawn Mendes': 1, 'Piso 21': 1, 'David Guetta': 1, 'DJ Snake': 1, 'Hailee Steinfeld': 1, 'Portugal. The Man': 1, 'Migos': 2, 'G-Eazy': 1, 'Sofia Reyes': 1, 'Natti Natasha': 1, 'Rich The Kid': 1, 'Billie Eilish': 1, 'Ozuna': 2, 'Maluma': 1, 'Anitta': 1, 'Wolfine': 1, 'Lil Baby': 1, 'Lauv': 1, 'Keala Settle': 1, 'Zac Efron': 1, 'DJ Khaled': 1, 'ZAYN': 1, 'Dean Lewis': 1}\n"
     ]
    },
    {
     "data": {
      "image/png": "[encoded data removed]",
      "text/plain": [
       "<Figure size 432x288 with 1 Axes>"
      ]
     },
     "metadata": {
      "needs_background": "light"
     },
     "output_type": "display_data"
    },
    {
     "name": "stdout",
     "output_type": "stream",
     "text": [
      "{'Drake': 4, 'XXXTENTACION': 6, 'Post Malone': 6, 'Calvin Harris': 2, 'Dua Lipa': 2, 'Marshmello': 3, 'Camila Cabello': 2, 'Maroon 5': 2, 'Kendrick Lamar': 2, 'Ariana Grande': 2, 'Ed Sheeran': 3, 'Khalid': 2, 'Clean Bandit': 2, 'Selena Gomez': 2, 'Imagine Dragons': 2, 'The Weeknd': 2, 'Migos': 2, 'Ozuna': 2}\n"
     ]
    },
    {
     "data": {
      "image/png": "[encoded data removed]",
      "text/plain": [
       "<Figure size 432x288 with 1 Axes>"
      ]
     },
     "metadata": {
      "needs_background": "light"
     },
     "output_type": "display_data"
    },
    {
     "name": "stdout",
     "output_type": "stream",
     "text": [
      "{'Drake': 4, 'XXXTENTACION': 6, 'Post Malone': 6, 'Marshmello': 3, 'Ed Sheeran': 3}\n"
     ]
    },
    {
     "data": {
      "image/png": "[encoded data removed]",
      "text/plain": [
       "<Figure size 432x288 with 1 Axes>"
      ]
     },
     "metadata": {
      "needs_background": "light"
     },
     "output_type": "display_data"
    }
   ],
   "source": [
    "# We made a bar graph to show how many songs each artist had in the top 100. This bar graph turned out very crowded\n",
    "print(artist_count)\n",
    "pyplot.bar(range(len(artist_count)), list(artist_count.values()))\n",
    "pyplot.xticks(range(len(artist_count)), list(artist_count.keys()))\n",
    "pyplot.show()\n",
    "\n",
    "# Since there were so many artists who only had one song in the top 100, we made a new, more directed dictionary that\n",
    "# only includes artists who had at least 2 songs in the top 100. This makes it easier to visualize the data\n",
    "artist_count2 = artist_count\n",
    "for j in list(artist_count2):\n",
    "    if artist_count[j] == 1:\n",
    "        artist_count2.pop(j)\n",
    "print(artist_count2)\n",
    "\n",
    "pyplot.bar(range(len(artist_count2)), list(artist_count2.values()))\n",
    "pyplot.xticks(range(len(artist_count2)), list(artist_count2.keys()))\n",
    "pyplot.show()\n",
    "\n",
    "# This was still a bit crowded so we made a dictionary with artists who had at least 3 songs in the top 100.\n",
    "# This narrowed it down to only 5 artists \n",
    "artist_count3 = artist_count2\n",
    "for j in list(artist_count3):\n",
    "    if artist_count[j] == 2:\n",
    "        artist_count3.pop(j)\n",
    "print(artist_count3)\n",
    "\n",
    "pyplot.bar(range(len(artist_count3)), list(artist_count3.values()))\n",
    "pyplot.xticks(range(len(artist_count3)), list(artist_count3.keys()))\n",
    "pyplot.show()"
   ]
  },
  {
   "cell_type": "code",
   "execution_count": null,
   "metadata": {},
   "outputs": [],
   "source": [
    "# After creating these bar graphs, we created scatter plots to see if there is any correlation between popularity (so\n",
    "# the amount times an artist appeared in the top 100) and other variables Spotify measures\n",
    "\n",
    "# Popularity and Danceability\n",
    "\n",
    "\n",
    "# Popularity and Energy\n",
    "\n",
    "\n",
    "# Popularity and Speechiness\n",
    "\n",
    "\n",
    "# Popularity and Acousticness\n",
    "\n",
    "\n",
    "# Popularity and Instrumentalness\n",
    "\n",
    "\n",
    "# Popularity and Liveness\n",
    "\n",
    "\n",
    "# Popularity and Valence\n",
    "\n",
    "\n",
    "# Popularity and Tempo\n",
    "\n",
    "\n",
    "# Popularity and Duration_ms\n",
    "\n"
   ]
  }
 ],
 "metadata": {
  "kernelspec": {
   "display_name": "Python 3",
   "language": "python",
   "name": "python3"
  },
  "language_info": {
   "codemirror_mode": {
    "name": "ipython",
    "version": 3
   },
   "file_extension": ".py",
   "mimetype": "text/x-python",
   "name": "python",
   "nbconvert_exporter": "python",
   "pygments_lexer": "ipython3",
   "version": "3.6.5"
  }
 },
 "nbformat": 4,
 "nbformat_minor": 2
}
